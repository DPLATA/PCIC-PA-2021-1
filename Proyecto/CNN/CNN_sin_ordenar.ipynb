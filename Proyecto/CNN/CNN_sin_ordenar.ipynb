{
 "cells": [
  {
   "cell_type": "code",
   "execution_count": 1,
   "id": "packed-lincoln",
   "metadata": {},
   "outputs": [
    {
     "name": "stderr",
     "output_type": "stream",
     "text": [
      "\u001b[32m\u001b[1m   Updating\u001b[22m\u001b[39m registry at `~/.julia/registries/General`\n",
      "--2021-02-07 22:48:54--  https://pkg.julialang.org/registry/23338594-aafe-5451-b93e-139f81909106/1f076eb32ce9b1e5e2f7f96e1da70d4dfeadd37f\n",
      "Resolving pkg.julialang.org (pkg.julialang.org)... 2a04:4e42:c::729, 151.101.50.217\n",
      "Connecting to pkg.julialang.org (pkg.julialang.org)|2a04:4e42:c::729|:443... connected.\n",
      "HTTP request sent, awaiting response... 301 ipv6 us-east internal redirect trigger\n",
      "Location: https://us-east.pkg.julialang.org/registry/23338594-aafe-5451-b93e-139f81909106/1f076eb32ce9b1e5e2f7f96e1da70d4dfeadd37f [following]\n",
      "--2021-02-07 22:48:54--  https://us-east.pkg.julialang.org/registry/23338594-aafe-5451-b93e-139f81909106/1f076eb32ce9b1e5e2f7f96e1da70d4dfeadd37f\n",
      "Resolving us-east.pkg.julialang.org (us-east.pkg.julialang.org)... 2600:1f18:18bc:3800:8d39:de54:21e4:22d5, 54.144.24.222\n",
      "Connecting to us-east.pkg.julialang.org (us-east.pkg.julialang.org)|2600:1f18:18bc:3800:8d39:de54:21e4:22d5|:443... connected.\n",
      "HTTP request sent, awaiting response... 200 OK\n",
      "Length: 2715073 (2.6M) [application/octet-stream]\n",
      "Saving to: ‘/tmp/jl_ronADC-download.gz’\n",
      "\n",
      "     0K .......... .......... .......... .......... ..........  1%  685K 4s\n",
      "    50K .......... .......... .......... .......... ..........  3%  658K 4s\n",
      "   100K .......... .......... .......... .......... ..........  5% 7.39M 3s\n",
      "   150K .......... .......... .......... .......... ..........  7%  641K 3s\n",
      "   200K .......... .......... .......... .......... ..........  9% 15.9M 2s\n",
      "   250K .......... .......... .......... .......... .......... 11%  703K 2s\n",
      "   300K .......... .......... .......... .......... .......... 13% 7.26M 2s\n",
      "   350K .......... .......... .......... .......... .......... 15%  434K 2s\n",
      "   400K .......... .......... .......... .......... .......... 16% 59.2M 2s\n",
      "   450K .......... .......... .......... .......... .......... 18%  713K 2s\n",
      "   500K .......... .......... .......... .......... .......... 20% 3.15M 2s\n",
      "   550K .......... .......... .......... .......... .......... 22%  644K 2s\n",
      "   600K .......... .......... .......... .......... .......... 24% 9.70M 2s\n",
      "   650K .......... .......... .......... .......... .......... 26% 6.07M 2s\n",
      "   700K .......... .......... .......... .......... .......... 28%  680K 2s\n",
      "   750K .......... .......... .......... .......... .......... 30% 5.24M 2s\n",
      "   800K .......... .......... .......... .......... .......... 32%  798K 2s\n",
      "   850K .......... .......... .......... .......... .......... 33% 2.61M 2s\n",
      "   900K .......... .......... .......... .......... .......... 35% 21.9M 1s\n",
      "   950K .......... .......... .......... .......... .......... 37%  814K 1s\n",
      "  1000K .......... .......... .......... .......... .......... 39% 4.33M 1s\n",
      "  1050K .......... .......... .......... .......... .......... 41%  830K 1s\n",
      "  1100K .......... .......... .......... .......... .......... 43% 2.14M 1s\n",
      "  1150K .......... .......... .......... .......... .......... 45% 4.40M 1s\n",
      "  1200K .......... .......... .......... .......... .......... 47%  965K 1s\n",
      "  1250K .......... .......... .......... .......... .......... 49% 2.60M 1s\n",
      "  1300K .......... .......... .......... .......... .......... 50% 9.97M 1s\n",
      "  1350K .......... .......... .......... .......... .......... 52%  696K 1s\n",
      "  1400K .......... .......... .......... .......... .......... 54% 7.83M 1s\n",
      "  1450K .......... .......... .......... .......... .......... 56% 6.47M 1s\n",
      "  1500K .......... .......... .......... .......... .......... 58%  596K 1s\n",
      "  1550K .......... .......... .......... .......... .......... 60% 15.7M 1s\n",
      "  1600K .......... .......... .......... .......... .......... 62% 7.84M 1s\n",
      "  1650K .......... .......... .......... .......... .......... 64%  536K 1s\n",
      "  1700K .......... .......... .......... .......... .......... 66%  122M 1s\n",
      "  1750K .......... .......... .......... .......... .......... 67% 8.94M 1s\n",
      "  1800K .......... .......... .......... .......... .......... 69% 4.80M 1s\n",
      "  1850K .......... .......... .......... .......... .......... 71%  761K 1s\n",
      "  1900K .......... .......... .......... .......... .......... 73% 5.67M 0s\n",
      "  1950K .......... .......... .......... .......... .......... 75% 5.13M 0s\n",
      "  2000K .......... .......... .......... .......... .......... 77%  844K 0s\n",
      "  2050K .......... .......... .......... .......... .......... 79% 3.61M 0s\n",
      "  2100K .......... .......... .......... .......... .......... 81% 7.90M 0s\n",
      "  2150K .......... .......... .......... .......... .......... 82% 6.18M 0s\n",
      "  2200K .......... .......... .......... .......... .......... 84%  977K 0s\n",
      "  2250K .......... .......... .......... .......... .......... 86% 2.24M 0s\n",
      "  2300K .......... .......... .......... .......... .......... 88% 4.03M 0s\n",
      "  2350K .......... .......... .......... .......... .......... 90% 5.75M 0s\n",
      "  2400K .......... .......... .......... .......... .......... 92%  678K 0s\n",
      "  2450K .......... .......... .......... .......... .......... 94% 4.62M 0s\n",
      "  2500K .......... .......... .......... .......... .......... 96% 3.58M 0s\n",
      "  2550K .......... .......... .......... .......... .......... 98% 6.42M 0s\n",
      "  2600K .......... .......... .......... .......... .......... 99% 1.14M 0s\n",
      "  2650K .                                                     100% 2744G=1.7s\n",
      "\n",
      "2021-02-07 22:48:56 (1.51 MB/s) - ‘/tmp/jl_ronADC-download.gz’ saved [2715073/2715073]\n",
      "\n",
      "\u001b[32m\u001b[1m  Resolving\u001b[22m\u001b[39m package versions...\n",
      "\u001b[32m\u001b[1mNo Changes\u001b[22m\u001b[39m to `~/.julia/environments/v1.5/Project.toml`\n",
      "\u001b[32m\u001b[1mNo Changes\u001b[22m\u001b[39m to `~/.julia/environments/v1.5/Manifest.toml`\n",
      "\u001b[32m\u001b[1m  Resolving\u001b[22m\u001b[39m package versions...\n",
      "\u001b[32m\u001b[1mNo Changes\u001b[22m\u001b[39m to `~/.julia/environments/v1.5/Project.toml`\n",
      "\u001b[32m\u001b[1mNo Changes\u001b[22m\u001b[39m to `~/.julia/environments/v1.5/Manifest.toml`\n"
     ]
    },
    {
     "ename": "LoadError",
     "evalue": "The following package names could not be resolved:\n * ImagenView (not found in project, manifest or registry)\n",
     "output_type": "error",
     "traceback": [
      "The following package names could not be resolved:\n * ImagenView (not found in project, manifest or registry)\n",
      "",
      "Stacktrace:",
      " [1] pkgerror(::String) at /buildworker/worker/package_linux64/build/usr/share/julia/stdlib/v1.5/Pkg/src/Types.jl:52",
      " [2] ensure_resolved(::Pkg.Types.Context, ::Array{Pkg.Types.PackageSpec,1}; registry::Bool) at /buildworker/worker/package_linux64/build/usr/share/julia/stdlib/v1.5/Pkg/src/Types.jl:837",
      " [3] add(::Pkg.Types.Context, ::Array{Pkg.Types.PackageSpec,1}; preserve::Pkg.Types.PreserveLevel, platform::Pkg.BinaryPlatforms.Linux, kwargs::Base.Iterators.Pairs{Union{},Union{},Tuple{},NamedTuple{(),Tuple{}}}) at /buildworker/worker/package_linux64/build/usr/share/julia/stdlib/v1.5/Pkg/src/API.jl:177",
      " [4] add(::Pkg.Types.Context, ::Array{Pkg.Types.PackageSpec,1}) at /buildworker/worker/package_linux64/build/usr/share/julia/stdlib/v1.5/Pkg/src/API.jl:139",
      " [5] #add#21 at /buildworker/worker/package_linux64/build/usr/share/julia/stdlib/v1.5/Pkg/src/API.jl:67 [inlined]",
      " [6] add at /buildworker/worker/package_linux64/build/usr/share/julia/stdlib/v1.5/Pkg/src/API.jl:67 [inlined]",
      " [7] #add#20 at /buildworker/worker/package_linux64/build/usr/share/julia/stdlib/v1.5/Pkg/src/API.jl:66 [inlined]",
      " [8] add at /buildworker/worker/package_linux64/build/usr/share/julia/stdlib/v1.5/Pkg/src/API.jl:66 [inlined]",
      " [9] add(::String; kwargs::Base.Iterators.Pairs{Union{},Union{},Tuple{},NamedTuple{(),Tuple{}}}) at /buildworker/worker/package_linux64/build/usr/share/julia/stdlib/v1.5/Pkg/src/API.jl:65",
      " [10] add(::String) at /buildworker/worker/package_linux64/build/usr/share/julia/stdlib/v1.5/Pkg/src/API.jl:65",
      " [11] top-level scope at In[1]:5",
      " [12] include_string(::Function, ::Module, ::String, ::String) at ./loading.jl:1091"
     ]
    }
   ],
   "source": [
    "using Pkg\n",
    "# Pkg.add(\"Flux\")\n",
    "Pkg.add(Pkg.PackageSpec(;name=\"Flux\", version=\"0.9.0\"))\n",
    "Pkg.add(\"BSON\")\n",
    "Pkg.add(\"ImagenView\")\n",
    "Pkg.add(\"Plots\")\n",
    "Pkg.add(\"ImageIO\")\n",
    "Pkg.add(\"ImageMagick\")\n",
    "Pkg.add(\"Tracker\")\n",
    "Pkg.add(\"Images\")\n",
    "Pkg.add(\"FileIO\")"
   ]
  },
  {
   "cell_type": "code",
   "execution_count": 3,
   "id": "inclusive-budget",
   "metadata": {},
   "outputs": [
    {
     "name": "stdout",
     "output_type": "stream",
     "text": [
      "/home/arteck/Documents/P/maestria/tareas/1_semestre/Programación Avanzada\n"
     ]
    }
   ],
   "source": [
    "; pwd"
   ]
  },
  {
   "cell_type": "code",
   "execution_count": 4,
   "id": "exclusive-interstate",
   "metadata": {},
   "outputs": [
    {
     "name": "stderr",
     "output_type": "stream",
     "text": [
      "fatal: destination path 'Viola-Jones' already exists and is not an empty directory.\n"
     ]
    }
   ],
   "source": [
    "; git clone https://github.com/INVASIS/Viola-Jones"
   ]
  },
  {
   "cell_type": "code",
   "execution_count": 5,
   "id": "expired-warrant",
   "metadata": {},
   "outputs": [
    {
     "name": "stdout",
     "output_type": "stream",
     "text": [
      "RCN-Copy1.ipynb\n",
      "RCN.ipynb\n",
      "Viola-Jones\n",
      "yalefaces\n"
     ]
    }
   ],
   "source": [
    "; ls"
   ]
  },
  {
   "cell_type": "code",
   "execution_count": 6,
   "id": "automotive-spelling",
   "metadata": {},
   "outputs": [
    {
     "name": "stderr",
     "output_type": "stream",
     "text": [
      "Gtk-Message: 22:51:26.128: Failed to load module \"canberra-gtk-module\"\n",
      "Gtk-Message: 22:51:26.128: Failed to load module \"canberra-gtk-module\"\n"
     ]
    }
   ],
   "source": [
    "using Flux, Flux.Data.MNIST, Statistics\n",
    "using Flux: onehotbatch, onecold, crossentropy, throttle\n",
    "using Base.Iterators: repeated, partition\n",
    "using Printf, BSON\n",
    "using ImageView\n",
    "using Plots\n",
    "using Tracker\n",
    "##Use \n",
    "using Images, FileIO\n",
    "\n",
    "\n"
   ]
  },
  {
   "cell_type": "code",
   "execution_count": 177,
   "id": "manual-kuwait",
   "metadata": {},
   "outputs": [
    {
     "data": {
      "text/plain": [
       "1:100"
      ]
     },
     "execution_count": 177,
     "metadata": {},
     "output_type": "execute_result"
    }
   ],
   "source": []
  },
  {
   "cell_type": "code",
   "execution_count": 7,
   "id": "lovely-serbia",
   "metadata": {},
   "outputs": [
    {
     "name": "stdout",
     "output_type": "stream",
     "text": [
      "  3.306296 seconds (1.34 M allocations: 71.248 MiB, 1.82% gc time)\n",
      "  4.197531 seconds (2.21 M allocations: 118.425 MiB, 0.97% gc time)\n"
     ]
    },
    {
     "data": {
      "text/plain": [
       "10977-element Array{Float64,1}:\n",
       " 1.0\n",
       " 1.0\n",
       " 1.0\n",
       " 1.0\n",
       " 1.0\n",
       " 1.0\n",
       " 1.0\n",
       " 1.0\n",
       " 1.0\n",
       " 1.0\n",
       " 1.0\n",
       " 1.0\n",
       " 1.0\n",
       " ⋮\n",
       " 0.0\n",
       " 0.0\n",
       " 0.0\n",
       " 0.0\n",
       " 0.0\n",
       " 0.0\n",
       " 0.0\n",
       " 0.0\n",
       " 0.0\n",
       " 0.0\n",
       " 0.0\n",
       " 0.0"
      ]
     },
     "execution_count": 7,
     "metadata": {},
     "output_type": "execute_result"
    }
   ],
   "source": [
    "@time begin\n",
    "    files_faces_train = readdir(\"Viola-Jones/data/trainset/faces/\")\n",
    "    images_train = Array{Array{Gray{Normed{UInt8,8}},2},1}()\n",
    "    for file in files_faces_train\n",
    "        img_path = \"Viola-Jones/data/trainset/faces/\" * file\n",
    "        img_temp = load(img_path)\n",
    "        push!(images_train, img_temp)    \n",
    "    end\n",
    "end\n",
    "y_train=ones(size(files_faces_train))\n",
    "@time begin\n",
    "    files_no_faces_train = readdir(\"Viola-Jones/data/trainset/non-faces/\")\n",
    "    for file in files_no_faces_train\n",
    "        img_path = \"Viola-Jones/data/trainset/non-faces/\" * file\n",
    "        img_temp = load(img_path)\n",
    "        push!(images_train, img_temp)    \n",
    "    end\n",
    "end\n",
    "y_train = vcat(y_train, zeros(size(files_no_faces_train)))"
   ]
  },
  {
   "cell_type": "code",
   "execution_count": 8,
   "id": "worth-scotland",
   "metadata": {},
   "outputs": [
    {
     "name": "stdout",
     "output_type": "stream",
     "text": [
      "  0.227349 seconds (121.80 k allocations: 6.501 MiB)\n",
      "  8.700626 seconds (5.07 M allocations: 270.585 MiB, 1.65% gc time)\n"
     ]
    },
    {
     "data": {
      "text/plain": [
       "10977-element Array{Float64,1}:\n",
       " 1.0\n",
       " 1.0\n",
       " 1.0\n",
       " 1.0\n",
       " 1.0\n",
       " 1.0\n",
       " 1.0\n",
       " 1.0\n",
       " 1.0\n",
       " 1.0\n",
       " 1.0\n",
       " 1.0\n",
       " 1.0\n",
       " ⋮\n",
       " 0.0\n",
       " 0.0\n",
       " 0.0\n",
       " 0.0\n",
       " 0.0\n",
       " 0.0\n",
       " 0.0\n",
       " 0.0\n",
       " 0.0\n",
       " 0.0\n",
       " 0.0\n",
       " 0.0"
      ]
     },
     "execution_count": 8,
     "metadata": {},
     "output_type": "execute_result"
    }
   ],
   "source": [
    "@time begin\n",
    "    files_faces_test = readdir(\"Viola-Jones/data/testset/faces/\")\n",
    "    images_test = Array{Array{Gray{Normed{UInt8,8}},2},1}()\n",
    "    for file in files_faces_test\n",
    "        img_path = \"Viola-Jones/data/testset/faces/\" * file\n",
    "        img_temp = load(img_path)\n",
    "        push!(images_test, img_temp)    \n",
    "    end\n",
    "end\n",
    "y_train=ones(size(files_faces_train))\n",
    "@time begin\n",
    "    files_no_faces_test = readdir(\"Viola-Jones/data/testset/non-faces/\")\n",
    "    for file in files_no_faces_test\n",
    "        img_path = \"Viola-Jones/data/testset/non-faces/\" * file\n",
    "        img_temp = load(img_path)\n",
    "        push!(images_test, img_temp)    \n",
    "    end\n",
    "end\n",
    "y_train = vcat(y_train, zeros(size(files_no_faces_train)))"
   ]
  },
  {
   "cell_type": "code",
   "execution_count": 9,
   "id": "worldwide-occupation",
   "metadata": {},
   "outputs": [
    {
     "data": {
      "text/plain": [
       "2-element Array{String,1}:\n",
       " \"faces\"\n",
       " \"non-faces\""
      ]
     },
     "execution_count": 9,
     "metadata": {},
     "output_type": "execute_result"
    }
   ],
   "source": [
    "readdir(\"Viola-Jones/data/trainset/\")"
   ]
  },
  {
   "cell_type": "code",
   "execution_count": null,
   "id": "dying-james",
   "metadata": {},
   "outputs": [],
   "source": []
  },
  {
   "cell_type": "code",
   "execution_count": null,
   "id": "innocent-while",
   "metadata": {},
   "outputs": [],
   "source": []
  },
  {
   "cell_type": "code",
   "execution_count": 10,
   "id": "atlantic-porcelain",
   "metadata": {},
   "outputs": [
    {
     "data": {
      "text/plain": [
       "(10977,)"
      ]
     },
     "execution_count": 10,
     "metadata": {},
     "output_type": "execute_result"
    }
   ],
   "source": [
    "size(y_train)"
   ]
  },
  {
   "cell_type": "code",
   "execution_count": 11,
   "id": "concerned-republic",
   "metadata": {},
   "outputs": [
    {
     "data": {
      "text/plain": [
       "1×10977 Array{Float64,2}:\n",
       " 1.0  1.0  1.0  1.0  1.0  1.0  1.0  1.0  …  0.0  0.0  0.0  0.0  0.0  0.0  0.0"
      ]
     },
     "execution_count": 11,
     "metadata": {},
     "output_type": "execute_result"
    }
   ],
   "source": [
    "y_train = reshape(y_train, 1, size(y_train)[1])\n"
   ]
  },
  {
   "cell_type": "code",
   "execution_count": 12,
   "id": "modular-chester",
   "metadata": {},
   "outputs": [],
   "source": [
    "\n",
    "\n",
    "# Load labels and images from Flux.Data.MNIST\n",
    "# Train set: images used to estimate the CNN\n",
    "# Load data on gpu (if enabled)\n",
    "train_labels = gpu.(y_train)\n",
    "train_imgs = gpu.(images_train);\n"
   ]
  },
  {
   "cell_type": "code",
   "execution_count": 13,
   "id": "spiritual-title",
   "metadata": {},
   "outputs": [
    {
     "data": {
      "text/plain": [
       "1×10977 Array{Float64,2}:\n",
       " 1.0  1.0  1.0  1.0  1.0  1.0  1.0  1.0  …  0.0  0.0  0.0  0.0  0.0  0.0  0.0"
      ]
     },
     "execution_count": 13,
     "metadata": {},
     "output_type": "execute_result"
    }
   ],
   "source": [
    "\n",
    "# Test set: images used to see how well the CNN perform \"out-of-the-sample\"\n",
    "test_imgs = images_train\n",
    "test_labels = y_train\n"
   ]
  },
  {
   "cell_type": "code",
   "execution_count": 14,
   "id": "returning-collection",
   "metadata": {},
   "outputs": [
    {
     "name": "stdout",
     "output_type": "stream",
     "text": [
      "Images in the train set: (10977,)Images in the test set: (10977,)"
     ]
    }
   ],
   "source": [
    "\n",
    "print(\"Images in the train set: $(size(train_imgs))\")\n",
    "print(\"Images in the test set: $(size(test_imgs))\")\n"
   ]
  },
  {
   "cell_type": "code",
   "execution_count": 15,
   "id": "mounted-telephone",
   "metadata": {},
   "outputs": [
    {
     "data": {
      "text/plain": [
       "(19, 19)"
      ]
     },
     "execution_count": 15,
     "metadata": {},
     "output_type": "execute_result"
    }
   ],
   "source": [
    "size(train_imgs[1])"
   ]
  },
  {
   "cell_type": "code",
   "execution_count": 16,
   "id": "motivated-million",
   "metadata": {},
   "outputs": [
    {
     "data": {
      "image/png": "[encoded data removed]",
      "text/plain": [
       "19×19 Array{Gray{N0f8},2} with eltype Gray{Normed{UInt8,8}}:\n",
       " Gray{N0f8}(0.408)  Gray{N0f8}(0.478)  …  Gray{N0f8}(0.329)\n",
       " Gray{N0f8}(0.353)  Gray{N0f8}(0.4)       Gray{N0f8}(0.357)\n",
       " Gray{N0f8}(0.357)  Gray{N0f8}(0.353)     Gray{N0f8}(0.31)\n",
       " Gray{N0f8}(0.333)  Gray{N0f8}(0.286)     Gray{N0f8}(0.349)\n",
       " Gray{N0f8}(0.38)   Gray{N0f8}(0.247)     Gray{N0f8}(0.361)\n",
       " Gray{N0f8}(0.388)  Gray{N0f8}(0.369)  …  Gray{N0f8}(0.373)\n",
       " Gray{N0f8}(0.506)  Gray{N0f8}(0.412)     Gray{N0f8}(0.404)\n",
       " Gray{N0f8}(0.565)  Gray{N0f8}(0.455)     Gray{N0f8}(0.475)\n",
       " Gray{N0f8}(0.529)  Gray{N0f8}(0.58)      Gray{N0f8}(0.502)\n",
       " Gray{N0f8}(0.506)  Gray{N0f8}(0.525)     Gray{N0f8}(0.502)\n",
       " Gray{N0f8}(0.471)  Gray{N0f8}(0.537)  …  Gray{N0f8}(0.459)\n",
       " Gray{N0f8}(0.455)  Gray{N0f8}(0.502)     Gray{N0f8}(0.467)\n",
       " Gray{N0f8}(0.478)  Gray{N0f8}(0.51)      Gray{N0f8}(0.467)\n",
       " Gray{N0f8}(0.431)  Gray{N0f8}(0.49)      Gray{N0f8}(0.427)\n",
       " Gray{N0f8}(0.38)   Gray{N0f8}(0.467)     Gray{N0f8}(0.376)\n",
       " Gray{N0f8}(0.353)  Gray{N0f8}(0.435)  …  Gray{N0f8}(0.329)\n",
       " Gray{N0f8}(0.373)  Gray{N0f8}(0.365)     Gray{N0f8}(0.294)\n",
       " Gray{N0f8}(0.353)  Gray{N0f8}(0.325)     Gray{N0f8}(0.29)\n",
       " Gray{N0f8}(0.294)  Gray{N0f8}(0.345)     Gray{N0f8}(0.278)"
      ]
     },
     "execution_count": 16,
     "metadata": {},
     "output_type": "execute_result"
    }
   ],
   "source": [
    "\n",
    "# Visualization of one digit\n",
    "NROWS, NCOLS = 19, 19\n",
    "a = reshape(train_imgs[1], NROWS, NCOLS)"
   ]
  },
  {
   "cell_type": "code",
   "execution_count": 17,
   "id": "polish-humanity",
   "metadata": {},
   "outputs": [
    {
     "data": {
      "text/plain": [
       "9.0"
      ]
     },
     "execution_count": 17,
     "metadata": {},
     "output_type": "execute_result"
    }
   ],
   "source": [
    "288 / 32"
   ]
  },
  {
   "cell_type": "code",
   "execution_count": 18,
   "id": "delayed-seeker",
   "metadata": {},
   "outputs": [
    {
     "data": {
      "text/plain": [
       "7.0"
      ]
     },
     "execution_count": 18,
     "metadata": {},
     "output_type": "execute_result"
    }
   ],
   "source": [
    "28 / 4"
   ]
  },
  {
   "cell_type": "code",
   "execution_count": null,
   "id": "needed-pittsburgh",
   "metadata": {},
   "outputs": [],
   "source": [
    "train"
   ]
  },
  {
   "cell_type": "code",
   "execution_count": 47,
   "id": "whole-netscape",
   "metadata": {},
   "outputs": [
    {
     "data": {
      "text/plain": [
       "288"
      ]
     },
     "execution_count": 47,
     "metadata": {},
     "output_type": "execute_result"
    }
   ],
   "source": [
    "3 * 3 * 32 "
   ]
  },
  {
   "cell_type": "code",
   "execution_count": 66,
   "id": "uniform-noise",
   "metadata": {},
   "outputs": [
    {
     "name": "stdout",
     "output_type": "stream",
     "text": [
      "search: \u001b[0m\u001b[1mr\u001b[22m\u001b[0m\u001b[1me\u001b[22m\u001b[0m\u001b[1ms\u001b[22m\u001b[0m\u001b[1mh\u001b[22m\u001b[0m\u001b[1ma\u001b[22m\u001b[0m\u001b[1mp\u001b[22m\u001b[0m\u001b[1me\u001b[22m p\u001b[0m\u001b[1mr\u001b[22momot\u001b[0m\u001b[1me\u001b[22m_\u001b[0m\u001b[1ms\u001b[22m\u001b[0m\u001b[1mh\u001b[22m\u001b[0m\u001b[1ma\u001b[22m\u001b[0m\u001b[1mp\u001b[22m\u001b[0m\u001b[1me\u001b[22m\n",
      "\n"
     ]
    },
    {
     "data": {
      "text/latex": [
       "\\begin{verbatim}\n",
       "reshape(A, dims...) -> AbstractArray\n",
       "reshape(A, dims) -> AbstractArray\n",
       "\\end{verbatim}\n",
       "Return an array with the same data as \\texttt{A}, but with different dimension sizes or number of dimensions. The two arrays share the same underlying data, so that the result is mutable if and only if \\texttt{A} is mutable, and setting elements of one alters the values of the other.\n",
       "\n",
       "The new dimensions may be specified either as a list of arguments or as a shape tuple. At most one dimension may be specified with a \\texttt{:}, in which case its length is computed such that its product with all the specified dimensions is equal to the length of the original array \\texttt{A}. The total number of elements must not change.\n",
       "\n",
       "\\section{Examples}\n",
       "\\begin{verbatim}\n",
       "julia> A = Vector(1:16)\n",
       "16-element Array{Int64,1}:\n",
       "  1\n",
       "  2\n",
       "  3\n",
       "  4\n",
       "  5\n",
       "  6\n",
       "  7\n",
       "  8\n",
       "  9\n",
       " 10\n",
       " 11\n",
       " 12\n",
       " 13\n",
       " 14\n",
       " 15\n",
       " 16\n",
       "\n",
       "julia> reshape(A, (4, 4))\n",
       "4×4 Array{Int64,2}:\n",
       " 1  5   9  13\n",
       " 2  6  10  14\n",
       " 3  7  11  15\n",
       " 4  8  12  16\n",
       "\n",
       "julia> reshape(A, 2, :)\n",
       "2×8 Array{Int64,2}:\n",
       " 1  3  5  7   9  11  13  15\n",
       " 2  4  6  8  10  12  14  16\n",
       "\n",
       "julia> reshape(1:6, 2, 3)\n",
       "2×3 reshape(::UnitRange{Int64}, 2, 3) with eltype Int64:\n",
       " 1  3  5\n",
       " 2  4  6\n",
       "\\end{verbatim}\n"
      ],
      "text/markdown": [
       "```\n",
       "reshape(A, dims...) -> AbstractArray\n",
       "reshape(A, dims) -> AbstractArray\n",
       "```\n",
       "\n",
       "Return an array with the same data as `A`, but with different dimension sizes or number of dimensions. The two arrays share the same underlying data, so that the result is mutable if and only if `A` is mutable, and setting elements of one alters the values of the other.\n",
       "\n",
       "The new dimensions may be specified either as a list of arguments or as a shape tuple. At most one dimension may be specified with a `:`, in which case its length is computed such that its product with all the specified dimensions is equal to the length of the original array `A`. The total number of elements must not change.\n",
       "\n",
       "# Examples\n",
       "\n",
       "```jldoctest\n",
       "julia> A = Vector(1:16)\n",
       "16-element Array{Int64,1}:\n",
       "  1\n",
       "  2\n",
       "  3\n",
       "  4\n",
       "  5\n",
       "  6\n",
       "  7\n",
       "  8\n",
       "  9\n",
       " 10\n",
       " 11\n",
       " 12\n",
       " 13\n",
       " 14\n",
       " 15\n",
       " 16\n",
       "\n",
       "julia> reshape(A, (4, 4))\n",
       "4×4 Array{Int64,2}:\n",
       " 1  5   9  13\n",
       " 2  6  10  14\n",
       " 3  7  11  15\n",
       " 4  8  12  16\n",
       "\n",
       "julia> reshape(A, 2, :)\n",
       "2×8 Array{Int64,2}:\n",
       " 1  3  5  7   9  11  13  15\n",
       " 2  4  6  8  10  12  14  16\n",
       "\n",
       "julia> reshape(1:6, 2, 3)\n",
       "2×3 reshape(::UnitRange{Int64}, 2, 3) with eltype Int64:\n",
       " 1  3  5\n",
       " 2  4  6\n",
       "```\n"
      ],
      "text/plain": [
       "\u001b[36m  reshape(A, dims...) -> AbstractArray\u001b[39m\n",
       "\u001b[36m  reshape(A, dims) -> AbstractArray\u001b[39m\n",
       "\n",
       "  Return an array with the same data as \u001b[36mA\u001b[39m, but with different dimension sizes\n",
       "  or number of dimensions. The two arrays share the same underlying data, so\n",
       "  that the result is mutable if and only if \u001b[36mA\u001b[39m is mutable, and setting elements\n",
       "  of one alters the values of the other.\n",
       "\n",
       "  The new dimensions may be specified either as a list of arguments or as a\n",
       "  shape tuple. At most one dimension may be specified with a \u001b[36m:\u001b[39m, in which case\n",
       "  its length is computed such that its product with all the specified\n",
       "  dimensions is equal to the length of the original array \u001b[36mA\u001b[39m. The total number\n",
       "  of elements must not change.\n",
       "\n",
       "\u001b[1m  Examples\u001b[22m\n",
       "\u001b[1m  ≡≡≡≡≡≡≡≡≡≡\u001b[22m\n",
       "\n",
       "\u001b[36m  julia> A = Vector(1:16)\u001b[39m\n",
       "\u001b[36m  16-element Array{Int64,1}:\u001b[39m\n",
       "\u001b[36m    1\u001b[39m\n",
       "\u001b[36m    2\u001b[39m\n",
       "\u001b[36m    3\u001b[39m\n",
       "\u001b[36m    4\u001b[39m\n",
       "\u001b[36m    5\u001b[39m\n",
       "\u001b[36m    6\u001b[39m\n",
       "\u001b[36m    7\u001b[39m\n",
       "\u001b[36m    8\u001b[39m\n",
       "\u001b[36m    9\u001b[39m\n",
       "\u001b[36m   10\u001b[39m\n",
       "\u001b[36m   11\u001b[39m\n",
       "\u001b[36m   12\u001b[39m\n",
       "\u001b[36m   13\u001b[39m\n",
       "\u001b[36m   14\u001b[39m\n",
       "\u001b[36m   15\u001b[39m\n",
       "\u001b[36m   16\u001b[39m\n",
       "\u001b[36m  \u001b[39m\n",
       "\u001b[36m  julia> reshape(A, (4, 4))\u001b[39m\n",
       "\u001b[36m  4×4 Array{Int64,2}:\u001b[39m\n",
       "\u001b[36m   1  5   9  13\u001b[39m\n",
       "\u001b[36m   2  6  10  14\u001b[39m\n",
       "\u001b[36m   3  7  11  15\u001b[39m\n",
       "\u001b[36m   4  8  12  16\u001b[39m\n",
       "\u001b[36m  \u001b[39m\n",
       "\u001b[36m  julia> reshape(A, 2, :)\u001b[39m\n",
       "\u001b[36m  2×8 Array{Int64,2}:\u001b[39m\n",
       "\u001b[36m   1  3  5  7   9  11  13  15\u001b[39m\n",
       "\u001b[36m   2  4  6  8  10  12  14  16\u001b[39m\n",
       "\u001b[36m  \u001b[39m\n",
       "\u001b[36m  julia> reshape(1:6, 2, 3)\u001b[39m\n",
       "\u001b[36m  2×3 reshape(::UnitRange{Int64}, 2, 3) with eltype Int64:\u001b[39m\n",
       "\u001b[36m   1  3  5\u001b[39m\n",
       "\u001b[36m   2  4  6\u001b[39m"
      ]
     },
     "execution_count": 66,
     "metadata": {},
     "output_type": "execute_result"
    }
   ],
   "source": [
    "?reshape"
   ]
  },
  {
   "cell_type": "code",
   "execution_count": 169,
   "id": "environmental-northeast",
   "metadata": {},
   "outputs": [],
   "source": [
    "model = Chain(\n",
    "    # First convolution, operating upon a 28x28 image\n",
    "    Conv((3, 3), 1=>16, pad=(2,2), relu),\n",
    "    MaxPool((2,2)), #maxpooling\n",
    "\n",
    "    # Second convolution, operating upon a 14x14 image\n",
    "    Conv((3, 3), 16=>32, pad=(1,1), relu),\n",
    "    MaxPool((2,2)), #maxpooling\n",
    "\n",
    "    # Third convolution, operating upon a 7x7 image\n",
    "#     Conv((3, 3), 32=>32,pad=(1,1), relu),\n",
    "#     MaxPool((2,2)),\n",
    "\n",
    "#     # Reshape 3d tensor into a 2d one, at this point it should be (3, 3, 32, N)\n",
    "#     # which is where we get the 288 in the `Dense` layer below:\n",
    "# #     x -> reshape(x, :, size(x, 4)),\n",
    "    x -> reshape(x, :, size(x, 4)),\n",
    "    \n",
    "    Dense(800, 2),\n",
    "#     Dense(128, 128),\n",
    "    \n",
    "\n",
    "    # Softmax to get probabilities\n",
    "    softmax,\n",
    ")\n",
    "\n",
    "# Load on gpu (if available)\n",
    "model = gpu(model);"
   ]
  },
  {
   "cell_type": "code",
   "execution_count": 170,
   "id": "deluxe-client",
   "metadata": {},
   "outputs": [],
   "source": [
    "# Batching \n",
    "# See: https://github.com/FluxML/model-zoo/blob/master/vision/mnist/conv.jl\n",
    "# Bundle images together with labels and group into minibatchess\n",
    "function make_minibatch(X, Y, idxs)\n",
    "    X_batch = Array{Float32}(undef, size(X[1])..., 1, length(idxs))\n",
    "    for i in 1:length(idxs)\n",
    "        X_batch[:, :, :, i] = Float32.(X[idxs[i]])\n",
    "    end\n",
    "    Y_batch = onehotbatch(Y[idxs], 0:1)\n",
    "#     Y_batch = Y[idxs]\n",
    "    return (X_batch, Y_batch)\n",
    "end\n",
    "# The CNN only \"sees\" 128 images at each training cycle:\n",
    "batch_size = 128\n",
    "mb_idxs = partition(1:length(train_imgs), batch_size)\n",
    "# train set in the form of batches\n",
    "train_set = [make_minibatch(train_imgs, train_labels, i) for i in mb_idxs];\n",
    "# train set in one-go: used to calculate accuracy with the train set\n",
    "train_set_full = make_minibatch(train_imgs, train_labels, 1:length(train_imgs));\n",
    "# test set: to check we do not overfit the train data:\n",
    "test_set = make_minibatch(test_imgs, test_labels, 1:length(test_imgs));"
   ]
  },
  {
   "cell_type": "code",
   "execution_count": 171,
   "id": "preliminary-marsh",
   "metadata": {},
   "outputs": [
    {
     "data": {
      "text/plain": [
       "(86,)"
      ]
     },
     "execution_count": 171,
     "metadata": {},
     "output_type": "execute_result"
    }
   ],
   "source": [
    "size(train_set)"
   ]
  },
  {
   "cell_type": "code",
   "execution_count": 172,
   "id": "assumed-focus",
   "metadata": {},
   "outputs": [
    {
     "data": {
      "text/plain": [
       "2×128 Flux.OneHotMatrix{Array{Flux.OneHotVector,1}}:\n",
       " 0  0  0  0  0  0  0  0  0  0  0  0  0  …  0  0  0  0  0  0  0  0  0  0  0  0\n",
       " 1  1  1  1  1  1  1  1  1  1  1  1  1     1  1  1  1  1  1  1  1  1  1  1  1"
      ]
     },
     "execution_count": 172,
     "metadata": {},
     "output_type": "execute_result"
    }
   ],
   "source": [
    "train_set[1][2]"
   ]
  },
  {
   "cell_type": "code",
   "execution_count": 173,
   "id": "introductory-directive",
   "metadata": {},
   "outputs": [
    {
     "data": {
      "text/plain": [
       "2"
      ]
     },
     "execution_count": 173,
     "metadata": {},
     "output_type": "execute_result"
    }
   ],
   "source": [
    "length(train_set[1])"
   ]
  },
  {
   "cell_type": "code",
   "execution_count": 174,
   "id": "discrete-sister",
   "metadata": {},
   "outputs": [],
   "source": [
    "# Loss function\n",
    "# See: https://github.com/FluxML/model-zoo/blob/master/vision/mnist/conv.jl\n",
    "# `loss()` calculates the crossentropy loss between our prediction `y_hat`\n",
    "function loss(x, y)\n",
    "    # Add some noise to the image\n",
    "    # we reduce the risk of overfitting the train sample by doing so:\n",
    "    x_aug = x .+ 0.1f0*gpu(randn(eltype(x), size(x)))\n",
    "\n",
    "    y_hat = model(x_aug)\n",
    "    return crossentropy(y_hat, y)\n",
    "end\n",
    "accuracy(x, y) = mean(onecold(model(x)) .== onecold(y))\n",
    "\n",
    "# ADAM optimizer\n",
    "opt = ADAM(0.001);"
   ]
  },
  {
   "cell_type": "code",
   "execution_count": 175,
   "id": "charged-anatomy",
   "metadata": {},
   "outputs": [
    {
     "data": {
      "text/plain": [
       "19×19×1×128 Array{Float32,4}:\n",
       "[:, :, 1, 1] =\n",
       " 0.407843  0.478431  0.556863  0.623529  …  0.407843  0.396078  0.329412\n",
       " 0.352941  0.4       0.454902  0.470588     0.278431  0.305882  0.356863\n",
       " 0.356863  0.352941  0.317647  0.4          0.313726  0.356863  0.309804\n",
       " 0.333333  0.286275  0.258824  0.564706     0.258824  0.313726  0.34902\n",
       " 0.380392  0.247059  0.345098  0.392157     0.298039  0.278431  0.360784\n",
       " 0.388235  0.368627  0.333333  0.376471  …  0.392157  0.372549  0.372549\n",
       " 0.505882  0.411765  0.447059  0.490196     0.509804  0.403922  0.403922\n",
       " 0.564706  0.454902  0.521569  0.572549     0.52549   0.443137  0.47451\n",
       " 0.529412  0.580392  0.537255  0.615686     0.607843  0.521569  0.501961\n",
       " 0.505882  0.52549   0.572549  0.623529     0.592157  0.529412  0.501961\n",
       " 0.470588  0.537255  0.529412  0.568627  …  0.560784  0.501961  0.458824\n",
       " 0.454902  0.501961  0.517647  0.537255     0.529412  0.505882  0.466667\n",
       " 0.478431  0.509804  0.505882  0.560784     0.545098  0.517647  0.466667\n",
       " 0.431373  0.490196  0.494118  0.545098     0.513726  0.494118  0.427451\n",
       " 0.380392  0.466667  0.509804  0.498039     0.45098   0.505882  0.376471\n",
       " 0.352941  0.435294  0.494118  0.439216  …  0.490196  0.482353  0.329412\n",
       " 0.372549  0.364706  0.47451   0.47451      0.560784  0.458824  0.294118\n",
       " 0.352941  0.32549   0.439216  0.498039     0.521569  0.403922  0.290196\n",
       " 0.294118  0.345098  0.352941  0.368627     0.427451  0.337255  0.278431\n",
       "\n",
       "[:, :, 1, 2] =\n",
       " 0.439216  0.52549   0.627451  0.67451   …  0.490196  0.458824  0.333333\n",
       " 0.388235  0.45098   0.564706  0.615686     0.372549  0.368627  0.333333\n",
       " 0.345098  0.356863  0.278431  0.337255     0.298039  0.305882  0.345098\n",
       " 0.392157  0.341176  0.321569  0.396078     0.298039  0.356863  0.321569\n",
       " 0.333333  0.270588  0.266667  0.65098      0.282353  0.290196  0.352941\n",
       " 0.368627  0.266667  0.333333  0.345098  …  0.298039  0.305882  0.360784\n",
       " 0.423529  0.396078  0.372549  0.419608     0.439216  0.384314  0.376471\n",
       " 0.537255  0.415686  0.490196  0.501961     0.529412  0.419608  0.419608\n",
       " 0.552941  0.498039  0.513726  0.580392     0.537255  0.454902  0.498039\n",
       " 0.52549   0.54902   0.552941  0.619608     0.619608  0.541176  0.498039\n",
       " 0.490196  0.521569  0.560784  0.611765  …  0.584314  0.521569  0.490196\n",
       " 0.458824  0.537255  0.521569  0.556863     0.54902   0.494118  0.454902\n",
       " 0.47451   0.494118  0.517647  0.541176     0.529412  0.509804  0.47451\n",
       " 0.470588  0.505882  0.498039  0.552941     0.545098  0.513726  0.454902\n",
       " 0.415686  0.486275  0.498039  0.537255     0.486275  0.494118  0.419608\n",
       " 0.368627  0.458824  0.505882  0.478431  …  0.458824  0.494118  0.364706\n",
       " 0.352941  0.419608  0.486275  0.439216     0.509804  0.478431  0.313726\n",
       " 0.376471  0.345098  0.466667  0.498039     0.564706  0.447059  0.290196\n",
       " 0.337255  0.329412  0.415686  0.478431     0.498039  0.384314  0.290196\n",
       "\n",
       "[:, :, 1, 3] =\n",
       " 0.356863  0.427451  0.517647  0.607843  …  0.584314  0.501961  0.427451\n",
       " 0.309804  0.376471  0.435294  0.490196     0.541176  0.443137  0.431373\n",
       " 0.407843  0.309804  0.32549   0.32549      0.313726  0.333333  0.356863\n",
       " 0.34902   0.34902   0.254902  0.380392     0.329412  0.333333  0.305882\n",
       " 0.419608  0.309804  0.266667  0.396078     0.254902  0.290196  0.356863\n",
       " 0.45098   0.356863  0.32549   0.34902   …  0.341176  0.227451  0.364706\n",
       " 0.564706  0.4       0.431373  0.466667     0.333333  0.329412  0.34902\n",
       " 0.560784  0.458824  0.505882  0.552941     0.47451   0.407843  0.376471\n",
       " 0.52549   0.568627  0.533333  0.596078     0.52549   0.439216  0.427451\n",
       " 0.501961  0.52549   0.572549  0.619608     0.564706  0.478431  0.498039\n",
       " 0.482353  0.529412  0.541176  0.588235  …  0.603922  0.533333  0.494118\n",
       " 0.466667  0.505882  0.521569  0.545098     0.556863  0.505882  0.47451\n",
       " 0.498039  0.505882  0.517647  0.568627     0.521569  0.478431  0.45098\n",
       " 0.462745  0.498039  0.505882  0.568627     0.521569  0.494118  0.47451\n",
       " 0.423529  0.486275  0.513726  0.478431     0.505882  0.478431  0.435294\n",
       " 0.380392  0.482353  0.482353  0.4       …  0.498039  0.454902  0.364706\n",
       " 0.337255  0.454902  0.494118  0.388235     0.498039  0.407843  0.309804\n",
       " 0.337255  0.4       0.509804  0.423529     0.52549   0.352941  0.305882\n",
       " 0.329412  0.34902   0.4       0.392157     0.482353  0.305882  0.32549\n",
       "\n",
       "...\n",
       "\n",
       "[:, :, 1, 126] =\n",
       " 0.286275  0.25098   0.290196  0.290196  …  0.32549   0.341176  0.368627\n",
       " 0.25098   0.337255  0.407843  0.592157     0.596078  0.607843  0.34902\n",
       " 0.266667  0.290196  0.423529  0.843137     0.560784  0.592157  0.52549\n",
       " 0.203922  0.223529  0.188235  0.211765     0.172549  0.223529  0.25098\n",
       " 0.317647  0.25098   0.25098   0.290196     0.333333  0.32549   0.443137\n",
       " 0.435294  0.352941  0.34902   0.384314  …  0.505882  0.509804  0.52549\n",
       " 0.431373  0.388235  0.415686  0.462745     0.533333  0.552941  0.454902\n",
       " 0.396078  0.384314  0.407843  0.486275     0.52549   0.478431  0.533333\n",
       " 0.360784  0.380392  0.341176  0.364706     0.454902  0.54902   0.521569\n",
       " 0.333333  0.4       0.466667  0.509804     0.619608  0.572549  0.513726\n",
       " 0.32549   0.384314  0.454902  0.498039  …  0.607843  0.564706  0.490196\n",
       " 0.32549   0.360784  0.427451  0.470588     0.592157  0.545098  0.486275\n",
       " 0.317647  0.34902   0.4       0.470588     0.576471  0.521569  0.486275\n",
       " 0.317647  0.329412  0.380392  0.431373     0.533333  0.501961  0.466667\n",
       " 0.313726  0.317647  0.360784  0.388235     0.501961  0.478431  0.435294\n",
       " 0.4       0.301961  0.337255  0.368627  …  0.498039  0.458824  0.419608\n",
       " 0.505882  0.301961  0.321569  0.392157     0.486275  0.435294  0.407843\n",
       " 0.486275  0.298039  0.301961  0.356863     0.419608  0.403922  0.388235\n",
       " 0.427451  0.294118  0.282353  0.301961     0.380392  0.364706  0.345098\n",
       "\n",
       "[:, :, 1, 127] =\n",
       " 0.121569  0.278431  0.34902   0.447059  …  0.52549   0.466667  0.392157\n",
       " 0.168627  0.286275  0.270588  0.345098     0.364706  0.376471  0.396078\n",
       " 0.258824  0.243137  0.360784  0.360784     0.545098  0.482353  0.333333\n",
       " 0.392157  0.270588  0.309804  0.541176     0.615686  0.662745  0.439216\n",
       " 0.254902  0.211765  0.211765  0.215686     0.176471  0.243137  0.27451\n",
       " 0.317647  0.317647  0.254902  0.262745  …  0.337255  0.360784  0.47451\n",
       " 0.337255  0.423529  0.34902   0.376471     0.509804  0.521569  0.411765\n",
       " 0.356863  0.443137  0.384314  0.443137     0.533333  0.564706  0.478431\n",
       " 0.34902   0.380392  0.352941  0.427451     0.45098   0.47451   0.537255\n",
       " 0.341176  0.356863  0.403922  0.372549     0.560784  0.552941  0.501961\n",
       " 0.333333  0.337255  0.415686  0.482353  …  0.615686  0.556863  0.490196\n",
       " 0.341176  0.329412  0.388235  0.462745     0.592157  0.541176  0.470588\n",
       " 0.356863  0.32549   0.360784  0.435294     0.572549  0.521569  0.470588\n",
       " 0.529412  0.317647  0.345098  0.403922     0.545098  0.505882  0.454902\n",
       " 0.74902   0.309804  0.329412  0.376471     0.505882  0.482353  0.423529\n",
       " 0.933333  0.337255  0.309804  0.356863  …  0.498039  0.454902  0.411765\n",
       " 0.972549  0.423529  0.301961  0.341176     0.486275  0.427451  0.407843\n",
       " 0.968628  0.419608  0.294118  0.321569     0.427451  0.403922  0.376471\n",
       " 0.960784  0.376471  0.290196  0.286275     0.380392  0.360784  0.352941\n",
       "\n",
       "[:, :, 1, 128] =\n",
       " 0.219608  0.34902   0.337255  0.364706  …  0.392157  0.423529  0.34902\n",
       " 0.282353  0.431373  0.603922  0.847059     0.521569  0.803922  0.788235\n",
       " 0.27451   0.239216  0.505882  0.552941     0.215686  0.317647  0.423529\n",
       " 0.211765  0.176471  0.192157  0.227451     0.258824  0.196078  0.235294\n",
       " 0.32549   0.286275  0.290196  0.337255     0.415686  0.384314  0.443137\n",
       " 0.384314  0.356863  0.403922  0.443137  …  0.560784  0.517647  0.533333\n",
       " 0.443137  0.388235  0.458824  0.47451      0.560784  0.537255  0.572549\n",
       " 0.376471  0.372549  0.458824  0.501961     0.533333  0.478431  0.458824\n",
       " 0.384314  0.364706  0.329412  0.34902      0.423529  0.537255  0.545098\n",
       " 0.372549  0.439216  0.490196  0.52549      0.631373  0.603922  0.54902\n",
       " 0.360784  0.427451  0.482353  0.498039  …  0.619608  0.6       0.541176\n",
       " 0.345098  0.4       0.466667  0.47451      0.619608  0.572549  0.529412\n",
       " 0.329412  0.384314  0.439216  0.490196     0.6       0.560784  0.509804\n",
       " 0.317647  0.364706  0.415686  0.45098      0.560784  0.529412  0.501961\n",
       " 0.313726  0.345098  0.388235  0.411765     0.505882  0.498039  0.482353\n",
       " 0.305882  0.32549   0.364706  0.364706  …  0.47451   0.498039  0.454902\n",
       " 0.305882  0.309804  0.360784  0.388235     0.498039  0.47451   0.431373\n",
       " 0.317647  0.301961  0.352941  0.407843     0.466667  0.447059  0.407843\n",
       " 0.313726  0.286275  0.317647  0.337255     0.4       0.407843  0.388235"
      ]
     },
     "execution_count": 175,
     "metadata": {},
     "output_type": "execute_result"
    }
   ],
   "source": [
    "train_set[1][1]"
   ]
  },
  {
   "cell_type": "code",
   "execution_count": 176,
   "id": "preliminary-listening",
   "metadata": {},
   "outputs": [
    {
     "name": "stderr",
     "output_type": "stream",
     "text": [
      "┌ Info: [1]: Train accuracy: 0.7787\n",
      "└ @ Main In[176]:14\n",
      "┌ Info: [1]: Test accuracy: 0.7787\n",
      "└ @ Main In[176]:18\n",
      "┌ Info: [2]: Train accuracy: 0.7787\n",
      "└ @ Main In[176]:14\n",
      "┌ Info: [2]: Test accuracy: 0.7787\n",
      "└ @ Main In[176]:18\n",
      "┌ Info: [3]: Train accuracy: 0.7787\n",
      "└ @ Main In[176]:14\n",
      "┌ Info: [3]: Test accuracy: 0.7787\n",
      "└ @ Main In[176]:18\n",
      "┌ Info: [4]: Train accuracy: 0.7787\n",
      "└ @ Main In[176]:14\n",
      "┌ Info: [4]: Test accuracy: 0.7787\n",
      "└ @ Main In[176]:18\n",
      "┌ Info: [5]: Train accuracy: 0.7787\n",
      "└ @ Main In[176]:14\n",
      "┌ Info: [5]: Test accuracy: 0.7787\n",
      "└ @ Main In[176]:18\n",
      "┌ Info: [6]: Train accuracy: 0.7787\n",
      "└ @ Main In[176]:14\n",
      "┌ Info: [6]: Test accuracy: 0.7787\n",
      "└ @ Main In[176]:18\n",
      "┌ Info: [7]: Train accuracy: 0.7787\n",
      "└ @ Main In[176]:14\n",
      "┌ Info: [7]: Test accuracy: 0.7787\n",
      "└ @ Main In[176]:18\n",
      "┌ Info: [8]: Train accuracy: 0.7787\n",
      "└ @ Main In[176]:14\n",
      "┌ Info: [8]: Test accuracy: 0.7787\n",
      "└ @ Main In[176]:18\n",
      "┌ Info: [9]: Train accuracy: 0.7803\n",
      "└ @ Main In[176]:14\n",
      "┌ Info: [9]: Test accuracy: 0.7803\n",
      "└ @ Main In[176]:18\n",
      "┌ Info: [10]: Train accuracy: 0.7810\n",
      "└ @ Main In[176]:14\n",
      "┌ Info: [10]: Test accuracy: 0.7810\n",
      "└ @ Main In[176]:18\n",
      "┌ Warning:  -> We're calling this converged.\n",
      "└ @ Main In[176]:27\n"
     ]
    }
   ],
   "source": [
    "# Training loop\n",
    "# See: https://github.com/FluxML/model-zoo/blob/master/vision/mnist/conv.jl\n",
    "best_acc = 0.0\n",
    "last_improvement = 0\n",
    "accuracy_target = 0.97 #Set an accuracy target. When reached, we stop training.\n",
    "max_epochs = 100 #Maximum\n",
    "for epoch_idx in 1:100\n",
    "    global best_acc, last_improvement\n",
    "    # Train for a single epoch\n",
    "    Flux.train!(loss, params(model), train_set, opt)\n",
    "\n",
    "    # Calculate accuracy:\n",
    "    acc = accuracy(train_set_full...)\n",
    "    @info(@sprintf(\"[%d]: Train accuracy: %.4f\", epoch_idx, acc))\n",
    "    \n",
    "    # Calculate accuracy:\n",
    "    acc = accuracy(test_set...)\n",
    "    @info(@sprintf(\"[%d]: Test accuracy: %.4f\", epoch_idx, acc))\n",
    "\n",
    "    # If our accuracy is good enough, quit out.\n",
    "    if acc >= accuracy_target\n",
    "        @info(\" -> Early-exiting: We reached our target accuracy of $(accuracy_target*100)%\")\n",
    "        break\n",
    "    end\n",
    "\n",
    "    if epoch_idx - last_improvement >= 10\n",
    "        @warn(\" -> We're calling this converged.\")\n",
    "        break\n",
    "    end\n",
    "end"
   ]
  },
  {
   "cell_type": "code",
   "execution_count": 38,
   "id": "divine-minimum",
   "metadata": {},
   "outputs": [],
   "source": [
    "# Get predictions and convert data to Array: \n",
    "pred = Tracker.data(model(test_set[1])); \n",
    "\n",
    "# Function to get the row index of the max value: \n",
    "f1(x) = getindex.(argmax(x, dims=1), 1) # Final predicted value is the one with the maximum probability: \n",
    "pred = f1(pred) .- 1; #minus 1, because the first digit is 0 (not 1)"
   ]
  },
  {
   "cell_type": "markdown",
   "id": "adverse-sociology",
   "metadata": {},
   "source": [
    "# pred"
   ]
  },
  {
   "cell_type": "code",
   "execution_count": null,
   "id": "blind-hayes",
   "metadata": {},
   "outputs": [],
   "source": []
  }
 ],
 "metadata": {
  "kernelspec": {
   "display_name": "Julia 1.5.3",
   "language": "julia",
   "name": "julia-1.5"
  },
  "language_info": {
   "file_extension": ".jl",
   "mimetype": "application/julia",
   "name": "julia",
   "version": "1.5.3"
  }
 },
 "nbformat": 4,
 "nbformat_minor": 5
}
