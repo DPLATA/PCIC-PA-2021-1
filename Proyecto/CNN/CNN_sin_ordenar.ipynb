{
 "cells": [
  {
   "cell_type": "code",
   "execution_count": 83,
   "id": "packed-lincoln",
   "metadata": {},
   "outputs": [
    {
     "name": "stderr",
     "output_type": "stream",
     "text": [
      "\u001b[32m\u001b[1m  Resolving\u001b[22m\u001b[39m package versions...\n",
      "\u001b[32m\u001b[1mNo Changes\u001b[22m\u001b[39m to `~/.julia/environments/v1.5/Project.toml`\n",
      "\u001b[32m\u001b[1mNo Changes\u001b[22m\u001b[39m to `~/.julia/environments/v1.5/Manifest.toml`\n",
      "\u001b[32m\u001b[1m  Resolving\u001b[22m\u001b[39m package versions...\n",
      "\u001b[32m\u001b[1mNo Changes\u001b[22m\u001b[39m to `~/.julia/environments/v1.5/Project.toml`\n",
      "\u001b[32m\u001b[1mNo Changes\u001b[22m\u001b[39m to `~/.julia/environments/v1.5/Manifest.toml`\n"
     ]
    },
    {
     "ename": "LoadError",
     "evalue": "The following package names could not be resolved:\n * ImagenView (not found in project, manifest or registry)\n",
     "output_type": "error",
     "traceback": [
      "The following package names could not be resolved:\n * ImagenView (not found in project, manifest or registry)\n",
      "",
      "Stacktrace:",
      " [1] pkgerror(::String) at /buildworker/worker/package_linux64/build/usr/share/julia/stdlib/v1.5/Pkg/src/Types.jl:52",
      " [2] ensure_resolved(::Pkg.Types.Context, ::Array{Pkg.Types.PackageSpec,1}; registry::Bool) at /buildworker/worker/package_linux64/build/usr/share/julia/stdlib/v1.5/Pkg/src/Types.jl:837",
      " [3] add(::Pkg.Types.Context, ::Array{Pkg.Types.PackageSpec,1}; preserve::Pkg.Types.PreserveLevel, platform::Pkg.BinaryPlatforms.Linux, kwargs::Base.Iterators.Pairs{Union{},Union{},Tuple{},NamedTuple{(),Tuple{}}}) at /buildworker/worker/package_linux64/build/usr/share/julia/stdlib/v1.5/Pkg/src/API.jl:177",
      " [4] add(::Pkg.Types.Context, ::Array{Pkg.Types.PackageSpec,1}) at /buildworker/worker/package_linux64/build/usr/share/julia/stdlib/v1.5/Pkg/src/API.jl:139",
      " [5] #add#21 at /buildworker/worker/package_linux64/build/usr/share/julia/stdlib/v1.5/Pkg/src/API.jl:67 [inlined]",
      " [6] add at /buildworker/worker/package_linux64/build/usr/share/julia/stdlib/v1.5/Pkg/src/API.jl:67 [inlined]",
      " [7] #add#20 at /buildworker/worker/package_linux64/build/usr/share/julia/stdlib/v1.5/Pkg/src/API.jl:66 [inlined]",
      " [8] add at /buildworker/worker/package_linux64/build/usr/share/julia/stdlib/v1.5/Pkg/src/API.jl:66 [inlined]",
      " [9] add(::String; kwargs::Base.Iterators.Pairs{Union{},Union{},Tuple{},NamedTuple{(),Tuple{}}}) at /buildworker/worker/package_linux64/build/usr/share/julia/stdlib/v1.5/Pkg/src/API.jl:65",
      " [10] add(::String) at /buildworker/worker/package_linux64/build/usr/share/julia/stdlib/v1.5/Pkg/src/API.jl:65",
      " [11] top-level scope at In[83]:5",
      " [12] include_string(::Function, ::Module, ::String, ::String) at ./loading.jl:1091"
     ]
    }
   ],
   "source": [
    "using Pkg\n",
    "# Pkg.add(\"Flux\")\n",
    "Pkg.add(Pkg.PackageSpec(;name=\"Flux\", version=\"0.9.0\"))\n",
    "Pkg.add(\"BSON\")\n",
    "Pkg.add(\"ImagenView\")\n",
    "Pkg.add(\"Plots\")\n",
    "Pkg.add(\"ImageIO\")\n",
    "Pkg.add(\"ImageMagick\")\n",
    "Pkg.add(\"Tracker\")\n",
    "Pkg.add(\"Images\")\n",
    "Pkg.add(\"FileIO\")"
   ]
  },
  {
   "cell_type": "code",
   "execution_count": 84,
   "id": "inclusive-budget",
   "metadata": {},
   "outputs": [
    {
     "name": "stdout",
     "output_type": "stream",
     "text": [
      "/home/arteck/Documents/P/maestria/tareas/1_semestre/Programación Avanzada/PCIC-PA-2021-1/Proyecto/CNN\n"
     ]
    }
   ],
   "source": [
    "; pwd"
   ]
  },
  {
   "cell_type": "code",
   "execution_count": 85,
   "id": "exclusive-interstate",
   "metadata": {},
   "outputs": [
    {
     "name": "stderr",
     "output_type": "stream",
     "text": [
      "fatal: destination path 'Viola-Jones' already exists and is not an empty directory.\n"
     ]
    }
   ],
   "source": [
    "; git clone https://github.com/INVASIS/Viola-Jones"
   ]
  },
  {
   "cell_type": "code",
   "execution_count": 86,
   "id": "expired-warrant",
   "metadata": {},
   "outputs": [
    {
     "name": "stdout",
     "output_type": "stream",
     "text": [
      "CNN_orden_aleatorio.ipynb\n",
      "CNN_sin_ordenar.ipynb\n",
      "Viola-Jones\n"
     ]
    }
   ],
   "source": [
    "; ls"
   ]
  },
  {
   "cell_type": "code",
   "execution_count": 87,
   "id": "automotive-spelling",
   "metadata": {},
   "outputs": [],
   "source": [
    "using Flux, Flux.Data.MNIST, Statistics\n",
    "using Flux: onehotbatch, onecold, crossentropy, throttle\n",
    "using Base.Iterators: repeated, partition\n",
    "using Printf, BSON\n",
    "using ImageView\n",
    "using Plots\n",
    "using Tracker\n",
    "##Use \n",
    "using Images, FileIO\n",
    "\n",
    "\n"
   ]
  },
  {
   "cell_type": "code",
   "execution_count": null,
   "id": "manual-kuwait",
   "metadata": {},
   "outputs": [],
   "source": []
  },
  {
   "cell_type": "code",
   "execution_count": 88,
   "id": "lovely-serbia",
   "metadata": {},
   "outputs": [
    {
     "name": "stdout",
     "output_type": "stream",
     "text": [
      "  0.254945 seconds (677.21 k allocations: 38.637 MiB)\n",
      "  0.842338 seconds (2.38 M allocations: 136.374 MiB)\n"
     ]
    },
    {
     "data": {
      "text/plain": [
       "10977-element Array{Float64,1}:\n",
       " 1.0\n",
       " 1.0\n",
       " 1.0\n",
       " 1.0\n",
       " 1.0\n",
       " 1.0\n",
       " 1.0\n",
       " 1.0\n",
       " 1.0\n",
       " 1.0\n",
       " 1.0\n",
       " 1.0\n",
       " 1.0\n",
       " ⋮\n",
       " 0.0\n",
       " 0.0\n",
       " 0.0\n",
       " 0.0\n",
       " 0.0\n",
       " 0.0\n",
       " 0.0\n",
       " 0.0\n",
       " 0.0\n",
       " 0.0\n",
       " 0.0\n",
       " 0.0"
      ]
     },
     "execution_count": 88,
     "metadata": {},
     "output_type": "execute_result"
    }
   ],
   "source": [
    "@time begin\n",
    "    files_faces_train = readdir(\"Viola-Jones/data/trainset/faces/\")\n",
    "    images_train = Array{Array{Gray{Normed{UInt8,8}},2},1}()\n",
    "    for file in files_faces_train\n",
    "        img_path = \"Viola-Jones/data/trainset/faces/\" * file\n",
    "        img_temp = load(img_path)\n",
    "        push!(images_train, img_temp)    \n",
    "    end\n",
    "end\n",
    "y_train=ones(size(files_faces_train))\n",
    "@time begin\n",
    "    files_no_faces_train = readdir(\"Viola-Jones/data/trainset/non-faces/\")\n",
    "    for file in files_no_faces_train\n",
    "        img_path = \"Viola-Jones/data/trainset/non-faces/\" * file\n",
    "        img_temp = load(img_path)\n",
    "        push!(images_train, img_temp)    \n",
    "    end\n",
    "end\n",
    "y_train = vcat(y_train, zeros(size(files_no_faces_train)))"
   ]
  },
  {
   "cell_type": "code",
   "execution_count": 89,
   "id": "worth-scotland",
   "metadata": {},
   "outputs": [
    {
     "name": "stdout",
     "output_type": "stream",
     "text": [
      "  0.049331 seconds (131.24 k allocations: 7.495 MiB)\n",
      "  1.911980 seconds (5.46 M allocations: 311.798 MiB)\n"
     ]
    },
    {
     "data": {
      "text/plain": [
       "20044-element Array{Float64,1}:\n",
       " 1.0\n",
       " 1.0\n",
       " 1.0\n",
       " 1.0\n",
       " 1.0\n",
       " 1.0\n",
       " 1.0\n",
       " 1.0\n",
       " 1.0\n",
       " 1.0\n",
       " 1.0\n",
       " 1.0\n",
       " 1.0\n",
       " ⋮\n",
       " 0.0\n",
       " 0.0\n",
       " 0.0\n",
       " 0.0\n",
       " 0.0\n",
       " 0.0\n",
       " 0.0\n",
       " 0.0\n",
       " 0.0\n",
       " 0.0\n",
       " 0.0\n",
       " 0.0"
      ]
     },
     "execution_count": 89,
     "metadata": {},
     "output_type": "execute_result"
    }
   ],
   "source": [
    "@time begin\n",
    "    files_faces_test = readdir(\"Viola-Jones/data/testset/faces/\")\n",
    "    images_test = Array{Array{Gray{Normed{UInt8,8}},2},1}()\n",
    "    for file in files_faces_test\n",
    "        img_path = \"Viola-Jones/data/testset/faces/\" * file\n",
    "        img_temp = load(img_path)\n",
    "        push!(images_test, img_temp)    \n",
    "    end\n",
    "end\n",
    "y_test=ones(size(files_faces_test))\n",
    "@time begin\n",
    "    files_no_faces_test = readdir(\"Viola-Jones/data/testset/non-faces/\")\n",
    "    for file in files_no_faces_test\n",
    "        img_path = \"Viola-Jones/data/testset/non-faces/\" * file\n",
    "        img_temp = load(img_path)\n",
    "        push!(images_test, img_temp)    \n",
    "    end\n",
    "end\n",
    "y_test = vcat(y_test, zeros(size(files_no_faces_test)))"
   ]
  },
  {
   "cell_type": "code",
   "execution_count": 90,
   "id": "worldwide-occupation",
   "metadata": {},
   "outputs": [
    {
     "data": {
      "text/plain": [
       "2-element Array{String,1}:\n",
       " \"faces\"\n",
       " \"non-faces\""
      ]
     },
     "execution_count": 90,
     "metadata": {},
     "output_type": "execute_result"
    }
   ],
   "source": [
    "readdir(\"Viola-Jones/data/trainset/\")"
   ]
  },
  {
   "cell_type": "code",
   "execution_count": null,
   "id": "dying-james",
   "metadata": {},
   "outputs": [],
   "source": []
  },
  {
   "cell_type": "code",
   "execution_count": null,
   "id": "innocent-while",
   "metadata": {},
   "outputs": [],
   "source": []
  },
  {
   "cell_type": "code",
   "execution_count": 91,
   "id": "atlantic-porcelain",
   "metadata": {},
   "outputs": [
    {
     "data": {
      "text/plain": [
       "(10977,)"
      ]
     },
     "execution_count": 91,
     "metadata": {},
     "output_type": "execute_result"
    }
   ],
   "source": [
    "size(y_train)"
   ]
  },
  {
   "cell_type": "code",
   "execution_count": 92,
   "id": "concerned-republic",
   "metadata": {},
   "outputs": [
    {
     "data": {
      "text/plain": [
       "1×10977 Array{Float64,2}:\n",
       " 1.0  1.0  1.0  1.0  1.0  1.0  1.0  1.0  …  0.0  0.0  0.0  0.0  0.0  0.0  0.0"
      ]
     },
     "execution_count": 92,
     "metadata": {},
     "output_type": "execute_result"
    }
   ],
   "source": [
    "y_train = reshape(y_train, 1, size(y_train)[1])\n"
   ]
  },
  {
   "cell_type": "code",
   "execution_count": 93,
   "id": "modular-chester",
   "metadata": {},
   "outputs": [],
   "source": [
    "\n",
    "\n",
    "# Load labels and images from Flux.Data.MNIST\n",
    "# Train set: images used to estimate the CNN\n",
    "# Load data on gpu (if enabled)\n",
    "train_labels = gpu.(y_train)\n",
    "train_imgs = gpu.(images_train);\n"
   ]
  },
  {
   "cell_type": "code",
   "execution_count": 94,
   "id": "spiritual-title",
   "metadata": {},
   "outputs": [
    {
     "data": {
      "text/plain": [
       "20044-element Array{Float64,1}:\n",
       " 1.0\n",
       " 1.0\n",
       " 1.0\n",
       " 1.0\n",
       " 1.0\n",
       " 1.0\n",
       " 1.0\n",
       " 1.0\n",
       " 1.0\n",
       " 1.0\n",
       " 1.0\n",
       " 1.0\n",
       " 1.0\n",
       " ⋮\n",
       " 0.0\n",
       " 0.0\n",
       " 0.0\n",
       " 0.0\n",
       " 0.0\n",
       " 0.0\n",
       " 0.0\n",
       " 0.0\n",
       " 0.0\n",
       " 0.0\n",
       " 0.0\n",
       " 0.0"
      ]
     },
     "execution_count": 94,
     "metadata": {},
     "output_type": "execute_result"
    }
   ],
   "source": [
    "\n",
    "# Test set: images used to see how well the CNN perform \"out-of-the-sample\"\n",
    "test_imgs = images_test\n",
    "test_labels = y_test"
   ]
  },
  {
   "cell_type": "code",
   "execution_count": 95,
   "id": "returning-collection",
   "metadata": {},
   "outputs": [
    {
     "name": "stdout",
     "output_type": "stream",
     "text": [
      "Images in the train set: (10977,)Images in the test set: (20044,)"
     ]
    }
   ],
   "source": [
    "\n",
    "print(\"Images in the train set: $(size(train_imgs))\")\n",
    "print(\"Images in the test set: $(size(test_imgs))\")\n"
   ]
  },
  {
   "cell_type": "code",
   "execution_count": 96,
   "id": "mounted-telephone",
   "metadata": {},
   "outputs": [
    {
     "data": {
      "text/plain": [
       "(19, 19)"
      ]
     },
     "execution_count": 96,
     "metadata": {},
     "output_type": "execute_result"
    }
   ],
   "source": [
    "size(train_imgs[1])"
   ]
  },
  {
   "cell_type": "code",
   "execution_count": 97,
   "id": "motivated-million",
   "metadata": {},
   "outputs": [
    {
     "data": {
      "image/png": "[encoded data removed]",
      "text/plain": [
       "19×19 Array{Gray{N0f8},2} with eltype Gray{Normed{UInt8,8}}:\n",
       " Gray{N0f8}(0.408)  Gray{N0f8}(0.478)  …  Gray{N0f8}(0.329)\n",
       " Gray{N0f8}(0.353)  Gray{N0f8}(0.4)       Gray{N0f8}(0.357)\n",
       " Gray{N0f8}(0.357)  Gray{N0f8}(0.353)     Gray{N0f8}(0.31)\n",
       " Gray{N0f8}(0.333)  Gray{N0f8}(0.286)     Gray{N0f8}(0.349)\n",
       " Gray{N0f8}(0.38)   Gray{N0f8}(0.247)     Gray{N0f8}(0.361)\n",
       " Gray{N0f8}(0.388)  Gray{N0f8}(0.369)  …  Gray{N0f8}(0.373)\n",
       " Gray{N0f8}(0.506)  Gray{N0f8}(0.412)     Gray{N0f8}(0.404)\n",
       " Gray{N0f8}(0.565)  Gray{N0f8}(0.455)     Gray{N0f8}(0.475)\n",
       " Gray{N0f8}(0.529)  Gray{N0f8}(0.58)      Gray{N0f8}(0.502)\n",
       " Gray{N0f8}(0.506)  Gray{N0f8}(0.525)     Gray{N0f8}(0.502)\n",
       " Gray{N0f8}(0.471)  Gray{N0f8}(0.537)  …  Gray{N0f8}(0.459)\n",
       " Gray{N0f8}(0.455)  Gray{N0f8}(0.502)     Gray{N0f8}(0.467)\n",
       " Gray{N0f8}(0.478)  Gray{N0f8}(0.51)      Gray{N0f8}(0.467)\n",
       " Gray{N0f8}(0.431)  Gray{N0f8}(0.49)      Gray{N0f8}(0.427)\n",
       " Gray{N0f8}(0.38)   Gray{N0f8}(0.467)     Gray{N0f8}(0.376)\n",
       " Gray{N0f8}(0.353)  Gray{N0f8}(0.435)  …  Gray{N0f8}(0.329)\n",
       " Gray{N0f8}(0.373)  Gray{N0f8}(0.365)     Gray{N0f8}(0.294)\n",
       " Gray{N0f8}(0.353)  Gray{N0f8}(0.325)     Gray{N0f8}(0.29)\n",
       " Gray{N0f8}(0.294)  Gray{N0f8}(0.345)     Gray{N0f8}(0.278)"
      ]
     },
     "execution_count": 97,
     "metadata": {},
     "output_type": "execute_result"
    }
   ],
   "source": [
    "\n",
    "# Visualization of one digit\n",
    "NROWS, NCOLS = 19, 19\n",
    "a = reshape(train_imgs[1], NROWS, NCOLS)"
   ]
  },
  {
   "cell_type": "code",
   "execution_count": 98,
   "id": "polish-humanity",
   "metadata": {},
   "outputs": [
    {
     "data": {
      "text/plain": [
       "9.0"
      ]
     },
     "execution_count": 98,
     "metadata": {},
     "output_type": "execute_result"
    }
   ],
   "source": [
    "288 / 32"
   ]
  },
  {
   "cell_type": "code",
   "execution_count": 99,
   "id": "delayed-seeker",
   "metadata": {},
   "outputs": [
    {
     "data": {
      "text/plain": [
       "7.0"
      ]
     },
     "execution_count": 99,
     "metadata": {},
     "output_type": "execute_result"
    }
   ],
   "source": [
    "28 / 4"
   ]
  },
  {
   "cell_type": "code",
   "execution_count": 100,
   "id": "needed-pittsburgh",
   "metadata": {},
   "outputs": [
    {
     "ename": "LoadError",
     "evalue": "UndefVarError: train not defined",
     "output_type": "error",
     "traceback": [
      "UndefVarError: train not defined",
      "",
      "Stacktrace:",
      " [1] top-level scope",
      " [2] include_string(::Function, ::Module, ::String, ::String) at ./loading.jl:1091"
     ]
    }
   ],
   "source": [
    "train"
   ]
  },
  {
   "cell_type": "code",
   "execution_count": 101,
   "id": "whole-netscape",
   "metadata": {},
   "outputs": [
    {
     "data": {
      "text/plain": [
       "288"
      ]
     },
     "execution_count": 101,
     "metadata": {},
     "output_type": "execute_result"
    }
   ],
   "source": [
    "3 * 3 * 32 "
   ]
  },
  {
   "cell_type": "code",
   "execution_count": 102,
   "id": "uniform-noise",
   "metadata": {},
   "outputs": [
    {
     "name": "stdout",
     "output_type": "stream",
     "text": [
      "search: \u001b[0m\u001b[1mr\u001b[22m\u001b[0m\u001b[1me\u001b[22m\u001b[0m\u001b[1ms\u001b[22m\u001b[0m\u001b[1mh\u001b[22m\u001b[0m\u001b[1ma\u001b[22m\u001b[0m\u001b[1mp\u001b[22m\u001b[0m\u001b[1me\u001b[22m p\u001b[0m\u001b[1mr\u001b[22momot\u001b[0m\u001b[1me\u001b[22m_\u001b[0m\u001b[1ms\u001b[22m\u001b[0m\u001b[1mh\u001b[22m\u001b[0m\u001b[1ma\u001b[22m\u001b[0m\u001b[1mp\u001b[22m\u001b[0m\u001b[1me\u001b[22m\n",
      "\n"
     ]
    },
    {
     "data": {
      "text/latex": [
       "\\begin{verbatim}\n",
       "reshape(A, dims...) -> AbstractArray\n",
       "reshape(A, dims) -> AbstractArray\n",
       "\\end{verbatim}\n",
       "Return an array with the same data as \\texttt{A}, but with different dimension sizes or number of dimensions. The two arrays share the same underlying data, so that the result is mutable if and only if \\texttt{A} is mutable, and setting elements of one alters the values of the other.\n",
       "\n",
       "The new dimensions may be specified either as a list of arguments or as a shape tuple. At most one dimension may be specified with a \\texttt{:}, in which case its length is computed such that its product with all the specified dimensions is equal to the length of the original array \\texttt{A}. The total number of elements must not change.\n",
       "\n",
       "\\section{Examples}\n",
       "\\begin{verbatim}\n",
       "julia> A = Vector(1:16)\n",
       "16-element Array{Int64,1}:\n",
       "  1\n",
       "  2\n",
       "  3\n",
       "  4\n",
       "  5\n",
       "  6\n",
       "  7\n",
       "  8\n",
       "  9\n",
       " 10\n",
       " 11\n",
       " 12\n",
       " 13\n",
       " 14\n",
       " 15\n",
       " 16\n",
       "\n",
       "julia> reshape(A, (4, 4))\n",
       "4×4 Array{Int64,2}:\n",
       " 1  5   9  13\n",
       " 2  6  10  14\n",
       " 3  7  11  15\n",
       " 4  8  12  16\n",
       "\n",
       "julia> reshape(A, 2, :)\n",
       "2×8 Array{Int64,2}:\n",
       " 1  3  5  7   9  11  13  15\n",
       " 2  4  6  8  10  12  14  16\n",
       "\n",
       "julia> reshape(1:6, 2, 3)\n",
       "2×3 reshape(::UnitRange{Int64}, 2, 3) with eltype Int64:\n",
       " 1  3  5\n",
       " 2  4  6\n",
       "\\end{verbatim}\n"
      ],
      "text/markdown": [
       "```\n",
       "reshape(A, dims...) -> AbstractArray\n",
       "reshape(A, dims) -> AbstractArray\n",
       "```\n",
       "\n",
       "Return an array with the same data as `A`, but with different dimension sizes or number of dimensions. The two arrays share the same underlying data, so that the result is mutable if and only if `A` is mutable, and setting elements of one alters the values of the other.\n",
       "\n",
       "The new dimensions may be specified either as a list of arguments or as a shape tuple. At most one dimension may be specified with a `:`, in which case its length is computed such that its product with all the specified dimensions is equal to the length of the original array `A`. The total number of elements must not change.\n",
       "\n",
       "# Examples\n",
       "\n",
       "```jldoctest\n",
       "julia> A = Vector(1:16)\n",
       "16-element Array{Int64,1}:\n",
       "  1\n",
       "  2\n",
       "  3\n",
       "  4\n",
       "  5\n",
       "  6\n",
       "  7\n",
       "  8\n",
       "  9\n",
       " 10\n",
       " 11\n",
       " 12\n",
       " 13\n",
       " 14\n",
       " 15\n",
       " 16\n",
       "\n",
       "julia> reshape(A, (4, 4))\n",
       "4×4 Array{Int64,2}:\n",
       " 1  5   9  13\n",
       " 2  6  10  14\n",
       " 3  7  11  15\n",
       " 4  8  12  16\n",
       "\n",
       "julia> reshape(A, 2, :)\n",
       "2×8 Array{Int64,2}:\n",
       " 1  3  5  7   9  11  13  15\n",
       " 2  4  6  8  10  12  14  16\n",
       "\n",
       "julia> reshape(1:6, 2, 3)\n",
       "2×3 reshape(::UnitRange{Int64}, 2, 3) with eltype Int64:\n",
       " 1  3  5\n",
       " 2  4  6\n",
       "```\n"
      ],
      "text/plain": [
       "\u001b[36m  reshape(A, dims...) -> AbstractArray\u001b[39m\n",
       "\u001b[36m  reshape(A, dims) -> AbstractArray\u001b[39m\n",
       "\n",
       "  Return an array with the same data as \u001b[36mA\u001b[39m, but with different dimension sizes\n",
       "  or number of dimensions. The two arrays share the same underlying data, so\n",
       "  that the result is mutable if and only if \u001b[36mA\u001b[39m is mutable, and setting elements\n",
       "  of one alters the values of the other.\n",
       "\n",
       "  The new dimensions may be specified either as a list of arguments or as a\n",
       "  shape tuple. At most one dimension may be specified with a \u001b[36m:\u001b[39m, in which case\n",
       "  its length is computed such that its product with all the specified\n",
       "  dimensions is equal to the length of the original array \u001b[36mA\u001b[39m. The total number\n",
       "  of elements must not change.\n",
       "\n",
       "\u001b[1m  Examples\u001b[22m\n",
       "\u001b[1m  ≡≡≡≡≡≡≡≡≡≡\u001b[22m\n",
       "\n",
       "\u001b[36m  julia> A = Vector(1:16)\u001b[39m\n",
       "\u001b[36m  16-element Array{Int64,1}:\u001b[39m\n",
       "\u001b[36m    1\u001b[39m\n",
       "\u001b[36m    2\u001b[39m\n",
       "\u001b[36m    3\u001b[39m\n",
       "\u001b[36m    4\u001b[39m\n",
       "\u001b[36m    5\u001b[39m\n",
       "\u001b[36m    6\u001b[39m\n",
       "\u001b[36m    7\u001b[39m\n",
       "\u001b[36m    8\u001b[39m\n",
       "\u001b[36m    9\u001b[39m\n",
       "\u001b[36m   10\u001b[39m\n",
       "\u001b[36m   11\u001b[39m\n",
       "\u001b[36m   12\u001b[39m\n",
       "\u001b[36m   13\u001b[39m\n",
       "\u001b[36m   14\u001b[39m\n",
       "\u001b[36m   15\u001b[39m\n",
       "\u001b[36m   16\u001b[39m\n",
       "\u001b[36m  \u001b[39m\n",
       "\u001b[36m  julia> reshape(A, (4, 4))\u001b[39m\n",
       "\u001b[36m  4×4 Array{Int64,2}:\u001b[39m\n",
       "\u001b[36m   1  5   9  13\u001b[39m\n",
       "\u001b[36m   2  6  10  14\u001b[39m\n",
       "\u001b[36m   3  7  11  15\u001b[39m\n",
       "\u001b[36m   4  8  12  16\u001b[39m\n",
       "\u001b[36m  \u001b[39m\n",
       "\u001b[36m  julia> reshape(A, 2, :)\u001b[39m\n",
       "\u001b[36m  2×8 Array{Int64,2}:\u001b[39m\n",
       "\u001b[36m   1  3  5  7   9  11  13  15\u001b[39m\n",
       "\u001b[36m   2  4  6  8  10  12  14  16\u001b[39m\n",
       "\u001b[36m  \u001b[39m\n",
       "\u001b[36m  julia> reshape(1:6, 2, 3)\u001b[39m\n",
       "\u001b[36m  2×3 reshape(::UnitRange{Int64}, 2, 3) with eltype Int64:\u001b[39m\n",
       "\u001b[36m   1  3  5\u001b[39m\n",
       "\u001b[36m   2  4  6\u001b[39m"
      ]
     },
     "execution_count": 102,
     "metadata": {},
     "output_type": "execute_result"
    }
   ],
   "source": [
    "?reshape"
   ]
  },
  {
   "cell_type": "code",
   "execution_count": 103,
   "id": "environmental-northeast",
   "metadata": {},
   "outputs": [],
   "source": [
    "model = Chain(\n",
    "    # First convolution, operating upon a 28x28 image\n",
    "    Conv((3, 3), 1=>16, pad=(2,2), relu),\n",
    "    MaxPool((2,2)), #maxpooling\n",
    "\n",
    "    # Second convolution, operating upon a 14x14 image\n",
    "    Conv((3, 3), 16=>32, pad=(1,1), relu),\n",
    "    MaxPool((2,2)), #maxpooling\n",
    "\n",
    "    # Third convolution, operating upon a 7x7 image\n",
    "#     Conv((3, 3), 32=>32,pad=(1,1), relu),\n",
    "#     MaxPool((2,2)),\n",
    "\n",
    "#     # Reshape 3d tensor into a 2d one, at this point it should be (3, 3, 32, N)\n",
    "#     # which is where we get the 288 in the `Dense` layer below:\n",
    "# #     x -> reshape(x, :, size(x, 4)),\n",
    "    x -> reshape(x, :, size(x, 4)),\n",
    "    \n",
    "    Dense(800, 2),\n",
    "#     Dense(128, 128),\n",
    "    \n",
    "\n",
    "    # Softmax to get probabilities\n",
    "    softmax,\n",
    ")\n",
    "\n",
    "# Load on gpu (if available)\n",
    "model = gpu(model);"
   ]
  },
  {
   "cell_type": "code",
   "execution_count": 104,
   "id": "deluxe-client",
   "metadata": {},
   "outputs": [],
   "source": [
    "# Batching \n",
    "# See: https://github.com/FluxML/model-zoo/blob/master/vision/mnist/conv.jl\n",
    "# Bundle images together with labels and group into minibatchess\n",
    "function make_minibatch(X, Y, idxs)\n",
    "    X_batch = Array{Float32}(undef, size(X[1])..., 1, length(idxs))\n",
    "    for i in 1:length(idxs)\n",
    "        X_batch[:, :, :, i] = Float32.(X[idxs[i]])\n",
    "    end\n",
    "    Y_batch = onehotbatch(Y[idxs], 0:1)\n",
    "#     Y_batch = Y[idxs]\n",
    "    return (X_batch, Y_batch)\n",
    "end\n",
    "# The CNN only \"sees\" 128 images at each training cycle:\n",
    "batch_size = 128\n",
    "mb_idxs = partition(1:length(train_imgs), batch_size)\n",
    "# train set in the form of batches\n",
    "train_set = [make_minibatch(train_imgs, train_labels, i) for i in mb_idxs];\n",
    "# train set in one-go: used to calculate accuracy with the train set\n",
    "train_set_full = make_minibatch(train_imgs, train_labels, 1:length(train_imgs));\n",
    "# test set: to check we do not overfit the train data:\n",
    "test_set = make_minibatch(test_imgs, test_labels, 1:length(test_imgs));"
   ]
  },
  {
   "cell_type": "code",
   "execution_count": 105,
   "id": "preliminary-marsh",
   "metadata": {},
   "outputs": [
    {
     "data": {
      "text/plain": [
       "(86,)"
      ]
     },
     "execution_count": 105,
     "metadata": {},
     "output_type": "execute_result"
    }
   ],
   "source": [
    "size(train_set)"
   ]
  },
  {
   "cell_type": "code",
   "execution_count": 106,
   "id": "assumed-focus",
   "metadata": {},
   "outputs": [
    {
     "data": {
      "text/plain": [
       "2×128 Flux.OneHotMatrix{Array{Flux.OneHotVector,1}}:\n",
       " 0  0  0  0  0  0  0  0  0  0  0  0  0  …  0  0  0  0  0  0  0  0  0  0  0  0\n",
       " 1  1  1  1  1  1  1  1  1  1  1  1  1     1  1  1  1  1  1  1  1  1  1  1  1"
      ]
     },
     "execution_count": 106,
     "metadata": {},
     "output_type": "execute_result"
    }
   ],
   "source": [
    "train_set[1][2]"
   ]
  },
  {
   "cell_type": "code",
   "execution_count": 107,
   "id": "introductory-directive",
   "metadata": {},
   "outputs": [
    {
     "data": {
      "text/plain": [
       "2"
      ]
     },
     "execution_count": 107,
     "metadata": {},
     "output_type": "execute_result"
    }
   ],
   "source": [
    "length(train_set[1])"
   ]
  },
  {
   "cell_type": "code",
   "execution_count": 108,
   "id": "discrete-sister",
   "metadata": {},
   "outputs": [],
   "source": [
    "# Loss function\n",
    "# See: https://github.com/FluxML/model-zoo/blob/master/vision/mnist/conv.jl\n",
    "# `loss()` calculates the crossentropy loss between our prediction `y_hat`\n",
    "function loss(x, y)\n",
    "    # Add some noise to the image\n",
    "    # we reduce the risk of overfitting the train sample by doing so:\n",
    "    x_aug = x .+ 0.1f0*gpu(randn(eltype(x), size(x)))\n",
    "\n",
    "    y_hat = model(x_aug)\n",
    "    return crossentropy(y_hat, y)\n",
    "end\n",
    "accuracy(x, y) = mean(onecold(model(x)) .== onecold(y))\n",
    "\n",
    "# ADAM optimizer\n",
    "opt = ADAM(0.001);"
   ]
  },
  {
   "cell_type": "code",
   "execution_count": 109,
   "id": "charged-anatomy",
   "metadata": {},
   "outputs": [
    {
     "data": {
      "text/plain": [
       "19×19×1×128 Array{Float32,4}:\n",
       "[:, :, 1, 1] =\n",
       " 0.407843  0.478431  0.556863  0.623529  …  0.407843  0.396078  0.329412\n",
       " 0.352941  0.4       0.454902  0.470588     0.278431  0.305882  0.356863\n",
       " 0.356863  0.352941  0.317647  0.4          0.313726  0.356863  0.309804\n",
       " 0.333333  0.286275  0.258824  0.564706     0.258824  0.313726  0.34902\n",
       " 0.380392  0.247059  0.345098  0.392157     0.298039  0.278431  0.360784\n",
       " 0.388235  0.368627  0.333333  0.376471  …  0.392157  0.372549  0.372549\n",
       " 0.505882  0.411765  0.447059  0.490196     0.509804  0.403922  0.403922\n",
       " 0.564706  0.454902  0.521569  0.572549     0.52549   0.443137  0.47451\n",
       " 0.529412  0.580392  0.537255  0.615686     0.607843  0.521569  0.501961\n",
       " 0.505882  0.52549   0.572549  0.623529     0.592157  0.529412  0.501961\n",
       " 0.470588  0.537255  0.529412  0.568627  …  0.560784  0.501961  0.458824\n",
       " 0.454902  0.501961  0.517647  0.537255     0.529412  0.505882  0.466667\n",
       " 0.478431  0.509804  0.505882  0.560784     0.545098  0.517647  0.466667\n",
       " 0.431373  0.490196  0.494118  0.545098     0.513726  0.494118  0.427451\n",
       " 0.380392  0.466667  0.509804  0.498039     0.45098   0.505882  0.376471\n",
       " 0.352941  0.435294  0.494118  0.439216  …  0.490196  0.482353  0.329412\n",
       " 0.372549  0.364706  0.47451   0.47451      0.560784  0.458824  0.294118\n",
       " 0.352941  0.32549   0.439216  0.498039     0.521569  0.403922  0.290196\n",
       " 0.294118  0.345098  0.352941  0.368627     0.427451  0.337255  0.278431\n",
       "\n",
       "[:, :, 1, 2] =\n",
       " 0.439216  0.52549   0.627451  0.67451   …  0.490196  0.458824  0.333333\n",
       " 0.388235  0.45098   0.564706  0.615686     0.372549  0.368627  0.333333\n",
       " 0.345098  0.356863  0.278431  0.337255     0.298039  0.305882  0.345098\n",
       " 0.392157  0.341176  0.321569  0.396078     0.298039  0.356863  0.321569\n",
       " 0.333333  0.270588  0.266667  0.65098      0.282353  0.290196  0.352941\n",
       " 0.368627  0.266667  0.333333  0.345098  …  0.298039  0.305882  0.360784\n",
       " 0.423529  0.396078  0.372549  0.419608     0.439216  0.384314  0.376471\n",
       " 0.537255  0.415686  0.490196  0.501961     0.529412  0.419608  0.419608\n",
       " 0.552941  0.498039  0.513726  0.580392     0.537255  0.454902  0.498039\n",
       " 0.52549   0.54902   0.552941  0.619608     0.619608  0.541176  0.498039\n",
       " 0.490196  0.521569  0.560784  0.611765  …  0.584314  0.521569  0.490196\n",
       " 0.458824  0.537255  0.521569  0.556863     0.54902   0.494118  0.454902\n",
       " 0.47451   0.494118  0.517647  0.541176     0.529412  0.509804  0.47451\n",
       " 0.470588  0.505882  0.498039  0.552941     0.545098  0.513726  0.454902\n",
       " 0.415686  0.486275  0.498039  0.537255     0.486275  0.494118  0.419608\n",
       " 0.368627  0.458824  0.505882  0.478431  …  0.458824  0.494118  0.364706\n",
       " 0.352941  0.419608  0.486275  0.439216     0.509804  0.478431  0.313726\n",
       " 0.376471  0.345098  0.466667  0.498039     0.564706  0.447059  0.290196\n",
       " 0.337255  0.329412  0.415686  0.478431     0.498039  0.384314  0.290196\n",
       "\n",
       "[:, :, 1, 3] =\n",
       " 0.356863  0.427451  0.517647  0.607843  …  0.584314  0.501961  0.427451\n",
       " 0.309804  0.376471  0.435294  0.490196     0.541176  0.443137  0.431373\n",
       " 0.407843  0.309804  0.32549   0.32549      0.313726  0.333333  0.356863\n",
       " 0.34902   0.34902   0.254902  0.380392     0.329412  0.333333  0.305882\n",
       " 0.419608  0.309804  0.266667  0.396078     0.254902  0.290196  0.356863\n",
       " 0.45098   0.356863  0.32549   0.34902   …  0.341176  0.227451  0.364706\n",
       " 0.564706  0.4       0.431373  0.466667     0.333333  0.329412  0.34902\n",
       " 0.560784  0.458824  0.505882  0.552941     0.47451   0.407843  0.376471\n",
       " 0.52549   0.568627  0.533333  0.596078     0.52549   0.439216  0.427451\n",
       " 0.501961  0.52549   0.572549  0.619608     0.564706  0.478431  0.498039\n",
       " 0.482353  0.529412  0.541176  0.588235  …  0.603922  0.533333  0.494118\n",
       " 0.466667  0.505882  0.521569  0.545098     0.556863  0.505882  0.47451\n",
       " 0.498039  0.505882  0.517647  0.568627     0.521569  0.478431  0.45098\n",
       " 0.462745  0.498039  0.505882  0.568627     0.521569  0.494118  0.47451\n",
       " 0.423529  0.486275  0.513726  0.478431     0.505882  0.478431  0.435294\n",
       " 0.380392  0.482353  0.482353  0.4       …  0.498039  0.454902  0.364706\n",
       " 0.337255  0.454902  0.494118  0.388235     0.498039  0.407843  0.309804\n",
       " 0.337255  0.4       0.509804  0.423529     0.52549   0.352941  0.305882\n",
       " 0.329412  0.34902   0.4       0.392157     0.482353  0.305882  0.32549\n",
       "\n",
       "...\n",
       "\n",
       "[:, :, 1, 126] =\n",
       " 0.286275  0.25098   0.290196  0.290196  …  0.32549   0.341176  0.368627\n",
       " 0.25098   0.337255  0.407843  0.592157     0.596078  0.607843  0.34902\n",
       " 0.266667  0.290196  0.423529  0.843137     0.560784  0.592157  0.52549\n",
       " 0.203922  0.223529  0.188235  0.211765     0.172549  0.223529  0.25098\n",
       " 0.317647  0.25098   0.25098   0.290196     0.333333  0.32549   0.443137\n",
       " 0.435294  0.352941  0.34902   0.384314  …  0.505882  0.509804  0.52549\n",
       " 0.431373  0.388235  0.415686  0.462745     0.533333  0.552941  0.454902\n",
       " 0.396078  0.384314  0.407843  0.486275     0.52549   0.478431  0.533333\n",
       " 0.360784  0.380392  0.341176  0.364706     0.454902  0.54902   0.521569\n",
       " 0.333333  0.4       0.466667  0.509804     0.619608  0.572549  0.513726\n",
       " 0.32549   0.384314  0.454902  0.498039  …  0.607843  0.564706  0.490196\n",
       " 0.32549   0.360784  0.427451  0.470588     0.592157  0.545098  0.486275\n",
       " 0.317647  0.34902   0.4       0.470588     0.576471  0.521569  0.486275\n",
       " 0.317647  0.329412  0.380392  0.431373     0.533333  0.501961  0.466667\n",
       " 0.313726  0.317647  0.360784  0.388235     0.501961  0.478431  0.435294\n",
       " 0.4       0.301961  0.337255  0.368627  …  0.498039  0.458824  0.419608\n",
       " 0.505882  0.301961  0.321569  0.392157     0.486275  0.435294  0.407843\n",
       " 0.486275  0.298039  0.301961  0.356863     0.419608  0.403922  0.388235\n",
       " 0.427451  0.294118  0.282353  0.301961     0.380392  0.364706  0.345098\n",
       "\n",
       "[:, :, 1, 127] =\n",
       " 0.121569  0.278431  0.34902   0.447059  …  0.52549   0.466667  0.392157\n",
       " 0.168627  0.286275  0.270588  0.345098     0.364706  0.376471  0.396078\n",
       " 0.258824  0.243137  0.360784  0.360784     0.545098  0.482353  0.333333\n",
       " 0.392157  0.270588  0.309804  0.541176     0.615686  0.662745  0.439216\n",
       " 0.254902  0.211765  0.211765  0.215686     0.176471  0.243137  0.27451\n",
       " 0.317647  0.317647  0.254902  0.262745  …  0.337255  0.360784  0.47451\n",
       " 0.337255  0.423529  0.34902   0.376471     0.509804  0.521569  0.411765\n",
       " 0.356863  0.443137  0.384314  0.443137     0.533333  0.564706  0.478431\n",
       " 0.34902   0.380392  0.352941  0.427451     0.45098   0.47451   0.537255\n",
       " 0.341176  0.356863  0.403922  0.372549     0.560784  0.552941  0.501961\n",
       " 0.333333  0.337255  0.415686  0.482353  …  0.615686  0.556863  0.490196\n",
       " 0.341176  0.329412  0.388235  0.462745     0.592157  0.541176  0.470588\n",
       " 0.356863  0.32549   0.360784  0.435294     0.572549  0.521569  0.470588\n",
       " 0.529412  0.317647  0.345098  0.403922     0.545098  0.505882  0.454902\n",
       " 0.74902   0.309804  0.329412  0.376471     0.505882  0.482353  0.423529\n",
       " 0.933333  0.337255  0.309804  0.356863  …  0.498039  0.454902  0.411765\n",
       " 0.972549  0.423529  0.301961  0.341176     0.486275  0.427451  0.407843\n",
       " 0.968628  0.419608  0.294118  0.321569     0.427451  0.403922  0.376471\n",
       " 0.960784  0.376471  0.290196  0.286275     0.380392  0.360784  0.352941\n",
       "\n",
       "[:, :, 1, 128] =\n",
       " 0.219608  0.34902   0.337255  0.364706  …  0.392157  0.423529  0.34902\n",
       " 0.282353  0.431373  0.603922  0.847059     0.521569  0.803922  0.788235\n",
       " 0.27451   0.239216  0.505882  0.552941     0.215686  0.317647  0.423529\n",
       " 0.211765  0.176471  0.192157  0.227451     0.258824  0.196078  0.235294\n",
       " 0.32549   0.286275  0.290196  0.337255     0.415686  0.384314  0.443137\n",
       " 0.384314  0.356863  0.403922  0.443137  …  0.560784  0.517647  0.533333\n",
       " 0.443137  0.388235  0.458824  0.47451      0.560784  0.537255  0.572549\n",
       " 0.376471  0.372549  0.458824  0.501961     0.533333  0.478431  0.458824\n",
       " 0.384314  0.364706  0.329412  0.34902      0.423529  0.537255  0.545098\n",
       " 0.372549  0.439216  0.490196  0.52549      0.631373  0.603922  0.54902\n",
       " 0.360784  0.427451  0.482353  0.498039  …  0.619608  0.6       0.541176\n",
       " 0.345098  0.4       0.466667  0.47451      0.619608  0.572549  0.529412\n",
       " 0.329412  0.384314  0.439216  0.490196     0.6       0.560784  0.509804\n",
       " 0.317647  0.364706  0.415686  0.45098      0.560784  0.529412  0.501961\n",
       " 0.313726  0.345098  0.388235  0.411765     0.505882  0.498039  0.482353\n",
       " 0.305882  0.32549   0.364706  0.364706  …  0.47451   0.498039  0.454902\n",
       " 0.305882  0.309804  0.360784  0.388235     0.498039  0.47451   0.431373\n",
       " 0.317647  0.301961  0.352941  0.407843     0.466667  0.447059  0.407843\n",
       " 0.313726  0.286275  0.317647  0.337255     0.4       0.407843  0.388235"
      ]
     },
     "execution_count": 109,
     "metadata": {},
     "output_type": "execute_result"
    }
   ],
   "source": [
    "train_set[1][1]"
   ]
  },
  {
   "cell_type": "code",
   "execution_count": 110,
   "id": "preliminary-listening",
   "metadata": {},
   "outputs": [
    {
     "name": "stderr",
     "output_type": "stream",
     "text": [
      "┌ Info: [1]: Train accuracy: 0.7787\n",
      "└ @ Main In[110]:14\n",
      "┌ Info: [1]: Test accuracy: 0.9765\n",
      "└ @ Main In[110]:18\n",
      "┌ Info:  -> Early-exiting: We reached our target accuracy of 97.0%\n",
      "└ @ Main In[110]:22\n"
     ]
    }
   ],
   "source": [
    "# Training loop\n",
    "# See: https://github.com/FluxML/model-zoo/blob/master/vision/mnist/conv.jl\n",
    "best_acc = 0.0\n",
    "last_improvement = 0\n",
    "accuracy_target = 0.97 #Set an accuracy target. When reached, we stop training.\n",
    "max_epochs = 100 #Maximum\n",
    "for epoch_idx in 1:100\n",
    "    global best_acc, last_improvement\n",
    "    # Train for a single epoch\n",
    "    Flux.train!(loss, params(model), train_set, opt)\n",
    "\n",
    "    # Calculate accuracy:\n",
    "    acc = accuracy(train_set_full...)\n",
    "    @info(@sprintf(\"[%d]: Train accuracy: %.4f\", epoch_idx, acc))\n",
    "    \n",
    "    # Calculate accuracy:\n",
    "    acc = accuracy(test_set...)\n",
    "    @info(@sprintf(\"[%d]: Test accuracy: %.4f\", epoch_idx, acc))\n",
    "\n",
    "    # If our accuracy is good enough, quit out.\n",
    "    if acc >= accuracy_target\n",
    "        @info(\" -> Early-exiting: We reached our target accuracy of $(accuracy_target*100)%\")\n",
    "        break\n",
    "    end\n",
    "\n",
    "    if epoch_idx - last_improvement >= 10\n",
    "        @warn(\" -> We're calling this converged.\")\n",
    "        break\n",
    "    end\n",
    "end"
   ]
  },
  {
   "cell_type": "code",
   "execution_count": 111,
   "id": "divine-minimum",
   "metadata": {},
   "outputs": [],
   "source": [
    "# Get predictions and convert data to Array: \n",
    "pred = Tracker.data(model(test_set[1])); \n",
    "\n",
    "# Function to get the row index of the max value: \n",
    "f1(x) = getindex.(argmax(x, dims=1), 1) # Final predicted value is the one with the maximum probability: \n",
    "pred = f1(pred) .- 1; #minus 1, because the first digit is 0 (not 1)"
   ]
  },
  {
   "cell_type": "markdown",
   "id": "adverse-sociology",
   "metadata": {},
   "source": [
    "# pred"
   ]
  },
  {
   "cell_type": "code",
   "execution_count": 112,
   "id": "reverse-manual",
   "metadata": {},
   "outputs": [
    {
     "ename": "LoadError",
     "evalue": "syntax: incomplete: premature end of input",
     "output_type": "error",
     "traceback": [
      "syntax: incomplete: premature end of input",
      "",
      "Stacktrace:",
      " [1] top-level scope at In[112]:1",
      " [2] include_string(::Function, ::Module, ::String, ::String) at ./loading.jl:1091"
     ]
    }
   ],
   "source": [
    "(y_test .== transpose(pred)\n",
    "    "
   ]
  },
  {
   "cell_type": "code",
   "execution_count": 117,
   "id": "blind-hayes",
   "metadata": {},
   "outputs": [
    {
     "data": {
      "text/plain": [
       "0"
      ]
     },
     "execution_count": 117,
     "metadata": {},
     "output_type": "execute_result"
    }
   ],
   "source": [
    "true_positives = sum((y_test .== transpose(pred)) .& (y_test .== 1))\n",
    "true_negatives = sum((y_test .== transpose(pred)) .& (y_test .== 0))\n",
    "false_positives = sum((y_test .!= transpose(pred)) .& (y_test .== 1))\n",
    "false_negatives = sum((y_test .!= transpose(pred)) .& (y_test .== 0))"
   ]
  },
  {
   "cell_type": "code",
   "execution_count": 123,
   "id": "unusual-array",
   "metadata": {},
   "outputs": [
    {
     "data": {
      "text/plain": [
       "NaN"
      ]
     },
     "execution_count": 123,
     "metadata": {},
     "output_type": "execute_result"
    }
   ],
   "source": [
    "acurracy = (true_positives + true_negatives) / (true_positives + true_negatives + false_positives + false_negatives)\n",
    "precision = true_positives / (true_positives + false_positives)\n",
    "recall = true_positives / (true_positives + false_negatives)"
   ]
  },
  {
   "cell_type": "code",
   "execution_count": 124,
   "id": "regular-plumbing",
   "metadata": {},
   "outputs": [
    {
     "data": {
      "text/plain": [
       "NaN"
      ]
     },
     "execution_count": 124,
     "metadata": {},
     "output_type": "execute_result"
    }
   ],
   "source": [
    "acurracy = (true_positives + true_negatives) / (true_positives + true_negatives + false_positives + false_negatives)\n",
    "precision = true_positives / (true_positives + false_positives)\n",
    "recall = true_positives / (true_positives + false_negatives)"
   ]
  },
  {
   "cell_type": "code",
   "execution_count": 125,
   "id": "forty-forward",
   "metadata": {},
   "outputs": [
    {
     "name": "stdout",
     "output_type": "stream",
     "text": [
      "La exactitud del modelo fue: 0.9764518060267412\n",
      "La precisión del modelo fue: 0.0\n",
      "El recall del modelo fue: NaN\n"
     ]
    }
   ],
   "source": [
    "print(\"La exactitud del modelo fue: $(acurracy)\\n\")\n",
    "print(\"La precisión del modelo fue: $(precision)\\n\")\n",
    "print(\"El recall del modelo fue: $(recall)\\n\")"
   ]
  },
  {
   "cell_type": "code",
   "execution_count": null,
   "id": "congressional-worry",
   "metadata": {},
   "outputs": [],
   "source": []
  }
 ],
 "metadata": {
  "kernelspec": {
   "display_name": "Julia 1.5.3",
   "language": "julia",
   "name": "julia-1.5"
  },
  "language_info": {
   "file_extension": ".jl",
   "mimetype": "application/julia",
   "name": "julia",
   "version": "1.5.3"
  }
 },
 "nbformat": 4,
 "nbformat_minor": 5
}
